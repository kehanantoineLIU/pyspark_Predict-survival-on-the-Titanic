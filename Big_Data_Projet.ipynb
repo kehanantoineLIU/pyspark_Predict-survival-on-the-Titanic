{
  "cells": [
    {
      "cell_type": "markdown",
      "metadata": {
        "id": "w1LqyRSPneIQ"
      },
      "source": [
        "# <center> BIG DATA PROJET </center>\n",
        "\n",
        "# <center> CLASSIFICATION MODEL USING PYSPARK </center>\n",
        "\n",
        "###<center> LIU Kehan </center>\n",
        "###<center> NGUYEN Le Kim </center>"
      ]
    },
    {
      "cell_type": "markdown",
      "metadata": {
        "id": "Mw0GetLzpBms"
      },
      "source": [
        "#Installing Pyspark on Google Colab"
      ]
    },
    {
      "cell_type": "code",
      "execution_count": null,
      "metadata": {
        "id": "zxaR0brix9VR"
      },
      "outputs": [],
      "source": []
    },
    {
      "cell_type": "markdown",
      "metadata": {
        "id": "QZckZN7kpL8v"
      },
      "source": [
        "Download Java Development Kit and Spark Hadoop"
      ]
    },
    {
      "cell_type": "code",
      "execution_count": null,
      "metadata": {
        "id": "ilwRaXLKkjV8"
      },
      "outputs": [],
      "source": [
        "!apt-get install openjdk-8-jdk-headless -qq > /dev/null\n",
        "!wget -q http://archive.apache.org/dist/spark/spark-3.1.1/spark-3.1.1-bin-hadoop3.2.tgz\n",
        "!tar xf spark-3.1.1-bin-hadoop3.2.tgz\n",
        "!pip install -q findspark"
      ]
    },
    {
      "cell_type": "markdown",
      "metadata": {
        "id": "UBQ5SbnOpcP2"
      },
      "source": [
        "Set up virtual environment for working with Pyspark"
      ]
    },
    {
      "cell_type": "code",
      "execution_count": null,
      "metadata": {
        "colab": {
          "base_uri": "https://localhost:8080/"
        },
        "id": "Bc9m1ARNlnY6",
        "outputId": "0c30452d-b919-4f2a-cd8d-6261b31b28ec"
      },
      "outputs": [
        {
          "name": "stdout",
          "output_type": "stream",
          "text": [
            "sample_data\t\t       spark-3.1.1-bin-hadoop3.2.tgz.1\ttrain.csv\n",
            "spark-3.1.1-bin-hadoop3.2      spark-3.1.1-bin-hadoop3.2.tgz.2\n",
            "spark-3.1.1-bin-hadoop3.2.tgz  test.csv\n"
          ]
        }
      ],
      "source": [
        "import os\n",
        "os.environ[\"JAVA_HOME\"] = \"/usr/lib/jvm/java-8-openjdk-amd64\"\n",
        "os.environ[\"SPARK_HOME\"] = \"/content/spark-3.1.1-bin-hadoop3.2\"\n",
        "!ls"
      ]
    },
    {
      "cell_type": "code",
      "execution_count": null,
      "metadata": {
        "colab": {
          "base_uri": "https://localhost:8080/",
          "height": 219
        },
        "id": "5WRkJD-Rls7b",
        "outputId": "c2d7127a-5c76-48d5-d4eb-c65b41a07fd2"
      },
      "outputs": [
        {
          "data": {
            "text/html": [
              "\n",
              "            <div>\n",
              "                <p><b>SparkSession - in-memory</b></p>\n",
              "                \n",
              "        <div>\n",
              "            <p><b>SparkContext</b></p>\n",
              "\n",
              "            <p><a href=\"http://d5b49cacb15e:4040\">Spark UI</a></p>\n",
              "\n",
              "            <dl>\n",
              "              <dt>Version</dt>\n",
              "                <dd><code>v3.1.1</code></dd>\n",
              "              <dt>Master</dt>\n",
              "                <dd><code>local[*]</code></dd>\n",
              "              <dt>AppName</dt>\n",
              "                <dd><code>Pyspark ML on Titanic dataset</code></dd>\n",
              "            </dl>\n",
              "        </div>\n",
              "        \n",
              "            </div>\n",
              "        "
            ],
            "text/plain": [
              "<pyspark.sql.session.SparkSession at 0x7ba3b8190520>"
            ]
          },
          "execution_count": 25,
          "metadata": {},
          "output_type": "execute_result"
        }
      ],
      "source": [
        "import findspark\n",
        "findspark.init()\n",
        "from pyspark.sql import SparkSession\n",
        "spark = SparkSession.builder.appName('Pyspark ML on Titanic dataset').getOrCreate()\n",
        "spark.conf.set(\"spark.sql.repl.eagerEval.enabled\", True) # Property used to format output tables better\n",
        "spark"
      ]
    },
    {
      "cell_type": "markdown",
      "metadata": {
        "id": "NqTrTuT27PZN"
      },
      "source": [
        "# Data Collection"
      ]
    },
    {
      "cell_type": "markdown",
      "metadata": {
        "id": "MWC0O3MR9HKT"
      },
      "source": [
        "The Titanic dataset is a popular dataset used in machine learning and data analysis. It contains information about passengers on the Titanic, including whether they survived or not. The dataset is often used for predictive modeling, where the goal is to answers the question: “what sorts of people were more likely to survive?” using passenger data (ie name, age, gender, socio-economic class, etc)."
      ]
    },
    {
      "cell_type": "code",
      "execution_count": null,
      "metadata": {
        "id": "oAv7AQQAjAvb"
      },
      "outputs": [],
      "source": [
        "import seaborn as sns\n",
        "import matplotlib.pyplot as plt\n",
        "import pandas as pd\n",
        "import pyspark.sql.functions as F\n",
        "from pyspark.sql.functions import round, col, sum ,count, mean\n",
        "from pyspark.sql.functions import when\n",
        "from pyspark.ml.feature import MinMaxScaler, VectorAssembler, StandardScaler, Normalizer\n",
        "from pyspark.ml.linalg import Vectors\n",
        "from pyspark.ml import Pipeline\n",
        "from pyspark.sql.functions import udf\n",
        "from pyspark.sql.types import DoubleType"
      ]
    },
    {
      "cell_type": "code",
      "execution_count": null,
      "metadata": {
        "colab": {
          "base_uri": "https://localhost:8080/",
          "height": 319
        },
        "id": "57K2L9RMm8zV",
        "outputId": "fb0d25aa-58ec-4c8e-9139-c39d1b3b7001"
      },
      "outputs": [
        {
          "data": {
            "application/vnd.google.colaboratory.intrinsic+json": {
              "summary": "{\n  \"name\": \"df\",\n  \"rows\": 3,\n  \"fields\": [\n    {\n      \"column\": \"PassengerId\",\n      \"properties\": {\n        \"dtype\": \"int32\",\n        \"num_unique_values\": 3,\n        \"samples\": [\n          1,\n          2,\n          3\n        ],\n        \"semantic_type\": \"\",\n        \"description\": \"\"\n      }\n    },\n    {\n      \"column\": \"Survived\",\n      \"properties\": {\n        \"dtype\": \"int32\",\n        \"num_unique_values\": 2,\n        \"samples\": [\n          1,\n          0\n        ],\n        \"semantic_type\": \"\",\n        \"description\": \"\"\n      }\n    },\n    {\n      \"column\": \"Pclass\",\n      \"properties\": {\n        \"dtype\": \"int32\",\n        \"num_unique_values\": 2,\n        \"samples\": [\n          1,\n          3\n        ],\n        \"semantic_type\": \"\",\n        \"description\": \"\"\n      }\n    },\n    {\n      \"column\": \"Name\",\n      \"properties\": {\n        \"dtype\": \"string\",\n        \"num_unique_values\": 3,\n        \"samples\": [\n          \"Braund, Mr. Owen Harris\",\n          \"Cumings, Mrs. John Bradley (Florence Briggs Thayer)\"\n        ],\n        \"semantic_type\": \"\",\n        \"description\": \"\"\n      }\n    },\n    {\n      \"column\": \"Sex\",\n      \"properties\": {\n        \"dtype\": \"string\",\n        \"num_unique_values\": 2,\n        \"samples\": [\n          \"female\",\n          \"male\"\n        ],\n        \"semantic_type\": \"\",\n        \"description\": \"\"\n      }\n    },\n    {\n      \"column\": \"Age\",\n      \"properties\": {\n        \"dtype\": \"number\",\n        \"std\": 8.32666399786453,\n        \"min\": 22.0,\n        \"max\": 38.0,\n        \"num_unique_values\": 3,\n        \"samples\": [\n          22.0,\n          38.0\n        ],\n        \"semantic_type\": \"\",\n        \"description\": \"\"\n      }\n    },\n    {\n      \"column\": \"SibSp\",\n      \"properties\": {\n        \"dtype\": \"int32\",\n        \"num_unique_values\": 2,\n        \"samples\": [\n          0,\n          1\n        ],\n        \"semantic_type\": \"\",\n        \"description\": \"\"\n      }\n    },\n    {\n      \"column\": \"Parch\",\n      \"properties\": {\n        \"dtype\": \"int32\",\n        \"num_unique_values\": 1,\n        \"samples\": [\n          0\n        ],\n        \"semantic_type\": \"\",\n        \"description\": \"\"\n      }\n    },\n    {\n      \"column\": \"Ticket\",\n      \"properties\": {\n        \"dtype\": \"string\",\n        \"num_unique_values\": 3,\n        \"samples\": [\n          \"A/5 21171\"\n        ],\n        \"semantic_type\": \"\",\n        \"description\": \"\"\n      }\n    },\n    {\n      \"column\": \"Fare\",\n      \"properties\": {\n        \"dtype\": \"number\",\n        \"std\": 36.77633594396447,\n        \"min\": 7.25,\n        \"max\": 71.2833,\n        \"num_unique_values\": 3,\n        \"samples\": [\n          7.25\n        ],\n        \"semantic_type\": \"\",\n        \"description\": \"\"\n      }\n    },\n    {\n      \"column\": \"Cabin\",\n      \"properties\": {\n        \"dtype\": \"category\",\n        \"num_unique_values\": 1,\n        \"samples\": [\n          \"C85\"\n        ],\n        \"semantic_type\": \"\",\n        \"description\": \"\"\n      }\n    },\n    {\n      \"column\": \"Embarked\",\n      \"properties\": {\n        \"dtype\": \"string\",\n        \"num_unique_values\": 2,\n        \"samples\": [\n          \"C\"\n        ],\n        \"semantic_type\": \"\",\n        \"description\": \"\"\n      }\n    }\n  ]\n}",
              "type": "dataframe"
            },
            "text/html": [
              "\n",
              "  <div id=\"df-1941a7cb-d162-48cb-810f-249225994411\" class=\"colab-df-container\">\n",
              "    <div>\n",
              "<style scoped>\n",
              "    .dataframe tbody tr th:only-of-type {\n",
              "        vertical-align: middle;\n",
              "    }\n",
              "\n",
              "    .dataframe tbody tr th {\n",
              "        vertical-align: top;\n",
              "    }\n",
              "\n",
              "    .dataframe thead th {\n",
              "        text-align: right;\n",
              "    }\n",
              "</style>\n",
              "<table border=\"1\" class=\"dataframe\">\n",
              "  <thead>\n",
              "    <tr style=\"text-align: right;\">\n",
              "      <th></th>\n",
              "      <th>PassengerId</th>\n",
              "      <th>Survived</th>\n",
              "      <th>Pclass</th>\n",
              "      <th>Name</th>\n",
              "      <th>Sex</th>\n",
              "      <th>Age</th>\n",
              "      <th>SibSp</th>\n",
              "      <th>Parch</th>\n",
              "      <th>Ticket</th>\n",
              "      <th>Fare</th>\n",
              "      <th>Cabin</th>\n",
              "      <th>Embarked</th>\n",
              "    </tr>\n",
              "  </thead>\n",
              "  <tbody>\n",
              "    <tr>\n",
              "      <th>0</th>\n",
              "      <td>1</td>\n",
              "      <td>0</td>\n",
              "      <td>3</td>\n",
              "      <td>Braund, Mr. Owen Harris</td>\n",
              "      <td>male</td>\n",
              "      <td>22.0</td>\n",
              "      <td>1</td>\n",
              "      <td>0</td>\n",
              "      <td>A/5 21171</td>\n",
              "      <td>7.2500</td>\n",
              "      <td>None</td>\n",
              "      <td>S</td>\n",
              "    </tr>\n",
              "    <tr>\n",
              "      <th>1</th>\n",
              "      <td>2</td>\n",
              "      <td>1</td>\n",
              "      <td>1</td>\n",
              "      <td>Cumings, Mrs. John Bradley (Florence Briggs Th...</td>\n",
              "      <td>female</td>\n",
              "      <td>38.0</td>\n",
              "      <td>1</td>\n",
              "      <td>0</td>\n",
              "      <td>PC 17599</td>\n",
              "      <td>71.2833</td>\n",
              "      <td>C85</td>\n",
              "      <td>C</td>\n",
              "    </tr>\n",
              "    <tr>\n",
              "      <th>2</th>\n",
              "      <td>3</td>\n",
              "      <td>1</td>\n",
              "      <td>3</td>\n",
              "      <td>Heikkinen, Miss. Laina</td>\n",
              "      <td>female</td>\n",
              "      <td>26.0</td>\n",
              "      <td>0</td>\n",
              "      <td>0</td>\n",
              "      <td>STON/O2. 3101282</td>\n",
              "      <td>7.9250</td>\n",
              "      <td>None</td>\n",
              "      <td>S</td>\n",
              "    </tr>\n",
              "  </tbody>\n",
              "</table>\n",
              "</div>\n",
              "    <div class=\"colab-df-buttons\">\n",
              "\n",
              "  <div class=\"colab-df-container\">\n",
              "    <button class=\"colab-df-convert\" onclick=\"convertToInteractive('df-1941a7cb-d162-48cb-810f-249225994411')\"\n",
              "            title=\"Convert this dataframe to an interactive table.\"\n",
              "            style=\"display:none;\">\n",
              "\n",
              "  <svg xmlns=\"http://www.w3.org/2000/svg\" height=\"24px\" viewBox=\"0 -960 960 960\">\n",
              "    <path d=\"M120-120v-720h720v720H120Zm60-500h600v-160H180v160Zm220 220h160v-160H400v160Zm0 220h160v-160H400v160ZM180-400h160v-160H180v160Zm440 0h160v-160H620v160ZM180-180h160v-160H180v160Zm440 0h160v-160H620v160Z\"/>\n",
              "  </svg>\n",
              "    </button>\n",
              "\n",
              "  <style>\n",
              "    .colab-df-container {\n",
              "      display:flex;\n",
              "      gap: 12px;\n",
              "    }\n",
              "\n",
              "    .colab-df-convert {\n",
              "      background-color: #E8F0FE;\n",
              "      border: none;\n",
              "      border-radius: 50%;\n",
              "      cursor: pointer;\n",
              "      display: none;\n",
              "      fill: #1967D2;\n",
              "      height: 32px;\n",
              "      padding: 0 0 0 0;\n",
              "      width: 32px;\n",
              "    }\n",
              "\n",
              "    .colab-df-convert:hover {\n",
              "      background-color: #E2EBFA;\n",
              "      box-shadow: 0px 1px 2px rgba(60, 64, 67, 0.3), 0px 1px 3px 1px rgba(60, 64, 67, 0.15);\n",
              "      fill: #174EA6;\n",
              "    }\n",
              "\n",
              "    .colab-df-buttons div {\n",
              "      margin-bottom: 4px;\n",
              "    }\n",
              "\n",
              "    [theme=dark] .colab-df-convert {\n",
              "      background-color: #3B4455;\n",
              "      fill: #D2E3FC;\n",
              "    }\n",
              "\n",
              "    [theme=dark] .colab-df-convert:hover {\n",
              "      background-color: #434B5C;\n",
              "      box-shadow: 0px 1px 3px 1px rgba(0, 0, 0, 0.15);\n",
              "      filter: drop-shadow(0px 1px 2px rgba(0, 0, 0, 0.3));\n",
              "      fill: #FFFFFF;\n",
              "    }\n",
              "  </style>\n",
              "\n",
              "    <script>\n",
              "      const buttonEl =\n",
              "        document.querySelector('#df-1941a7cb-d162-48cb-810f-249225994411 button.colab-df-convert');\n",
              "      buttonEl.style.display =\n",
              "        google.colab.kernel.accessAllowed ? 'block' : 'none';\n",
              "\n",
              "      async function convertToInteractive(key) {\n",
              "        const element = document.querySelector('#df-1941a7cb-d162-48cb-810f-249225994411');\n",
              "        const dataTable =\n",
              "          await google.colab.kernel.invokeFunction('convertToInteractive',\n",
              "                                                    [key], {});\n",
              "        if (!dataTable) return;\n",
              "\n",
              "        const docLinkHtml = 'Like what you see? Visit the ' +\n",
              "          '<a target=\"_blank\" href=https://colab.research.google.com/notebooks/data_table.ipynb>data table notebook</a>'\n",
              "          + ' to learn more about interactive tables.';\n",
              "        element.innerHTML = '';\n",
              "        dataTable['output_type'] = 'display_data';\n",
              "        await google.colab.output.renderOutput(dataTable, element);\n",
              "        const docLink = document.createElement('div');\n",
              "        docLink.innerHTML = docLinkHtml;\n",
              "        element.appendChild(docLink);\n",
              "      }\n",
              "    </script>\n",
              "  </div>\n",
              "\n",
              "\n",
              "<div id=\"df-da18301b-22bf-4824-a8a4-d50302a00bab\">\n",
              "  <button class=\"colab-df-quickchart\" onclick=\"quickchart('df-da18301b-22bf-4824-a8a4-d50302a00bab')\"\n",
              "            title=\"Suggest charts\"\n",
              "            style=\"display:none;\">\n",
              "\n",
              "<svg xmlns=\"http://www.w3.org/2000/svg\" height=\"24px\"viewBox=\"0 0 24 24\"\n",
              "     width=\"24px\">\n",
              "    <g>\n",
              "        <path d=\"M19 3H5c-1.1 0-2 .9-2 2v14c0 1.1.9 2 2 2h14c1.1 0 2-.9 2-2V5c0-1.1-.9-2-2-2zM9 17H7v-7h2v7zm4 0h-2V7h2v10zm4 0h-2v-4h2v4z\"/>\n",
              "    </g>\n",
              "</svg>\n",
              "  </button>\n",
              "\n",
              "<style>\n",
              "  .colab-df-quickchart {\n",
              "      --bg-color: #E8F0FE;\n",
              "      --fill-color: #1967D2;\n",
              "      --hover-bg-color: #E2EBFA;\n",
              "      --hover-fill-color: #174EA6;\n",
              "      --disabled-fill-color: #AAA;\n",
              "      --disabled-bg-color: #DDD;\n",
              "  }\n",
              "\n",
              "  [theme=dark] .colab-df-quickchart {\n",
              "      --bg-color: #3B4455;\n",
              "      --fill-color: #D2E3FC;\n",
              "      --hover-bg-color: #434B5C;\n",
              "      --hover-fill-color: #FFFFFF;\n",
              "      --disabled-bg-color: #3B4455;\n",
              "      --disabled-fill-color: #666;\n",
              "  }\n",
              "\n",
              "  .colab-df-quickchart {\n",
              "    background-color: var(--bg-color);\n",
              "    border: none;\n",
              "    border-radius: 50%;\n",
              "    cursor: pointer;\n",
              "    display: none;\n",
              "    fill: var(--fill-color);\n",
              "    height: 32px;\n",
              "    padding: 0;\n",
              "    width: 32px;\n",
              "  }\n",
              "\n",
              "  .colab-df-quickchart:hover {\n",
              "    background-color: var(--hover-bg-color);\n",
              "    box-shadow: 0 1px 2px rgba(60, 64, 67, 0.3), 0 1px 3px 1px rgba(60, 64, 67, 0.15);\n",
              "    fill: var(--button-hover-fill-color);\n",
              "  }\n",
              "\n",
              "  .colab-df-quickchart-complete:disabled,\n",
              "  .colab-df-quickchart-complete:disabled:hover {\n",
              "    background-color: var(--disabled-bg-color);\n",
              "    fill: var(--disabled-fill-color);\n",
              "    box-shadow: none;\n",
              "  }\n",
              "\n",
              "  .colab-df-spinner {\n",
              "    border: 2px solid var(--fill-color);\n",
              "    border-color: transparent;\n",
              "    border-bottom-color: var(--fill-color);\n",
              "    animation:\n",
              "      spin 1s steps(1) infinite;\n",
              "  }\n",
              "\n",
              "  @keyframes spin {\n",
              "    0% {\n",
              "      border-color: transparent;\n",
              "      border-bottom-color: var(--fill-color);\n",
              "      border-left-color: var(--fill-color);\n",
              "    }\n",
              "    20% {\n",
              "      border-color: transparent;\n",
              "      border-left-color: var(--fill-color);\n",
              "      border-top-color: var(--fill-color);\n",
              "    }\n",
              "    30% {\n",
              "      border-color: transparent;\n",
              "      border-left-color: var(--fill-color);\n",
              "      border-top-color: var(--fill-color);\n",
              "      border-right-color: var(--fill-color);\n",
              "    }\n",
              "    40% {\n",
              "      border-color: transparent;\n",
              "      border-right-color: var(--fill-color);\n",
              "      border-top-color: var(--fill-color);\n",
              "    }\n",
              "    60% {\n",
              "      border-color: transparent;\n",
              "      border-right-color: var(--fill-color);\n",
              "    }\n",
              "    80% {\n",
              "      border-color: transparent;\n",
              "      border-right-color: var(--fill-color);\n",
              "      border-bottom-color: var(--fill-color);\n",
              "    }\n",
              "    90% {\n",
              "      border-color: transparent;\n",
              "      border-bottom-color: var(--fill-color);\n",
              "    }\n",
              "  }\n",
              "</style>\n",
              "\n",
              "  <script>\n",
              "    async function quickchart(key) {\n",
              "      const quickchartButtonEl =\n",
              "        document.querySelector('#' + key + ' button');\n",
              "      quickchartButtonEl.disabled = true;  // To prevent multiple clicks.\n",
              "      quickchartButtonEl.classList.add('colab-df-spinner');\n",
              "      try {\n",
              "        const charts = await google.colab.kernel.invokeFunction(\n",
              "            'suggestCharts', [key], {});\n",
              "      } catch (error) {\n",
              "        console.error('Error during call to suggestCharts:', error);\n",
              "      }\n",
              "      quickchartButtonEl.classList.remove('colab-df-spinner');\n",
              "      quickchartButtonEl.classList.add('colab-df-quickchart-complete');\n",
              "    }\n",
              "    (() => {\n",
              "      let quickchartButtonEl =\n",
              "        document.querySelector('#df-da18301b-22bf-4824-a8a4-d50302a00bab button');\n",
              "      quickchartButtonEl.style.display =\n",
              "        google.colab.kernel.accessAllowed ? 'block' : 'none';\n",
              "    })();\n",
              "  </script>\n",
              "</div>\n",
              "    </div>\n",
              "  </div>\n"
            ],
            "text/plain": [
              "   PassengerId  Survived  Pclass  \\\n",
              "0            1         0       3   \n",
              "1            2         1       1   \n",
              "2            3         1       3   \n",
              "\n",
              "                                                Name     Sex   Age  SibSp  \\\n",
              "0                            Braund, Mr. Owen Harris    male  22.0      1   \n",
              "1  Cumings, Mrs. John Bradley (Florence Briggs Th...  female  38.0      1   \n",
              "2                             Heikkinen, Miss. Laina  female  26.0      0   \n",
              "\n",
              "   Parch            Ticket     Fare Cabin Embarked  \n",
              "0      0         A/5 21171   7.2500  None        S  \n",
              "1      0          PC 17599  71.2833   C85        C  \n",
              "2      0  STON/O2. 3101282   7.9250  None        S  "
            ]
          },
          "execution_count": 84,
          "metadata": {},
          "output_type": "execute_result"
        }
      ],
      "source": [
        "df = spark.read.csv('train.csv',header = 'True',inferSchema='True')\n",
        "df.limit(3).toPandas()"
      ]
    },
    {
      "cell_type": "code",
      "execution_count": null,
      "metadata": {
        "id": "FPA-1Dmw9mdh"
      },
      "outputs": [],
      "source": [
        "df = df.withColumn('Age', df['Age'].cast('int'))"
      ]
    },
    {
      "cell_type": "code",
      "execution_count": null,
      "metadata": {
        "colab": {
          "base_uri": "https://localhost:8080/"
        },
        "id": "YKNlkniknPSx",
        "outputId": "db1aeefe-4a62-45e1-a37f-e9d04bfbb9ac"
      },
      "outputs": [
        {
          "name": "stdout",
          "output_type": "stream",
          "text": [
            "root\n",
            " |-- PassengerId: integer (nullable = true)\n",
            " |-- Survived: integer (nullable = true)\n",
            " |-- Pclass: integer (nullable = true)\n",
            " |-- Name: string (nullable = true)\n",
            " |-- Sex: string (nullable = true)\n",
            " |-- Age: integer (nullable = true)\n",
            " |-- SibSp: integer (nullable = true)\n",
            " |-- Parch: integer (nullable = true)\n",
            " |-- Ticket: string (nullable = true)\n",
            " |-- Fare: double (nullable = true)\n",
            " |-- Cabin: string (nullable = true)\n",
            " |-- Embarked: string (nullable = true)\n",
            "\n"
          ]
        }
      ],
      "source": [
        "df.printSchema()"
      ]
    },
    {
      "cell_type": "markdown",
      "metadata": {
        "id": "27gSTO49iBwl"
      },
      "source": [
        " # Data Understanding\n",
        " The dataset typically includes the following columns: <br>\n",
        " |-- PassengerId:   Unique identifier for each passenger <br>\n",
        " |-- Survived: Indicates whether the passenger survived (1) or not (0)  <br>\n",
        " |-- Pclass:   Ticket class (1st, 2nd, or 3rd) <br>\n",
        " |-- Name: Name of passenger  \n",
        " |-- Sex: Sex of passenger  \n",
        " |-- Age: age of passenger  \n",
        " |-- SibSp: Number of siblings/spouses aboard.  \n",
        " |-- Parch: Number of parents/children aboard.  \n",
        " |-- Ticket: Ticket number  \n",
        " |-- Fare: Fare paid for the ticket. <br>\n",
        " |-- Cabin: Cabin number  \n",
        " |-- Embarked: Port of Embarkation (C = Cherbourg, Q = Queenstown, S = Southampton)."
      ]
    },
    {
      "cell_type": "markdown",
      "metadata": {
        "id": "GWI67eBXhhgA"
      },
      "source": [
        "# Data cleanning"
      ]
    },
    {
      "cell_type": "markdown",
      "metadata": {
        "id": "lU8bBeZNlDP-"
      },
      "source": [
        "## Dropping Columns which are not useful"
      ]
    },
    {
      "cell_type": "markdown",
      "metadata": {
        "id": "lQbPVTdblJ32"
      },
      "source": [
        "Drop some of the columns which many not contribute much to our machine learning model such as Name, Ticket, Cabin etc."
      ]
    },
    {
      "cell_type": "code",
      "execution_count": null,
      "metadata": {
        "id": "RQvRjmDAlG2Z"
      },
      "outputs": [],
      "source": [
        "df = df.drop('Cabin', 'Name', 'Ticket')"
      ]
    },
    {
      "cell_type": "markdown",
      "metadata": {
        "id": "7J38Y2qBhkfE"
      },
      "source": [
        "##Detection of missing values"
      ]
    },
    {
      "cell_type": "code",
      "execution_count": null,
      "metadata": {
        "colab": {
          "base_uri": "https://localhost:8080/",
          "height": 81
        },
        "id": "xYqoSjTzhieg",
        "outputId": "98a71697-159b-4527-ad92-a4ba7f6891f1"
      },
      "outputs": [
        {
          "data": {
            "application/vnd.google.colaboratory.intrinsic+json": {
              "summary": "{\n  \"name\": \"missing_counts\",\n  \"rows\": 1,\n  \"fields\": [\n    {\n      \"column\": \"PassengerId\",\n      \"properties\": {\n        \"dtype\": \"number\",\n        \"std\": null,\n        \"min\": 0,\n        \"max\": 0,\n        \"num_unique_values\": 1,\n        \"samples\": [\n          0\n        ],\n        \"semantic_type\": \"\",\n        \"description\": \"\"\n      }\n    },\n    {\n      \"column\": \"Survived\",\n      \"properties\": {\n        \"dtype\": \"number\",\n        \"std\": null,\n        \"min\": 0,\n        \"max\": 0,\n        \"num_unique_values\": 1,\n        \"samples\": [\n          0\n        ],\n        \"semantic_type\": \"\",\n        \"description\": \"\"\n      }\n    },\n    {\n      \"column\": \"Pclass\",\n      \"properties\": {\n        \"dtype\": \"number\",\n        \"std\": null,\n        \"min\": 0,\n        \"max\": 0,\n        \"num_unique_values\": 1,\n        \"samples\": [\n          0\n        ],\n        \"semantic_type\": \"\",\n        \"description\": \"\"\n      }\n    },\n    {\n      \"column\": \"Sex\",\n      \"properties\": {\n        \"dtype\": \"number\",\n        \"std\": null,\n        \"min\": 0,\n        \"max\": 0,\n        \"num_unique_values\": 1,\n        \"samples\": [\n          0\n        ],\n        \"semantic_type\": \"\",\n        \"description\": \"\"\n      }\n    },\n    {\n      \"column\": \"Age\",\n      \"properties\": {\n        \"dtype\": \"number\",\n        \"std\": null,\n        \"min\": 177,\n        \"max\": 177,\n        \"num_unique_values\": 1,\n        \"samples\": [\n          177\n        ],\n        \"semantic_type\": \"\",\n        \"description\": \"\"\n      }\n    },\n    {\n      \"column\": \"SibSp\",\n      \"properties\": {\n        \"dtype\": \"number\",\n        \"std\": null,\n        \"min\": 0,\n        \"max\": 0,\n        \"num_unique_values\": 1,\n        \"samples\": [\n          0\n        ],\n        \"semantic_type\": \"\",\n        \"description\": \"\"\n      }\n    },\n    {\n      \"column\": \"Parch\",\n      \"properties\": {\n        \"dtype\": \"number\",\n        \"std\": null,\n        \"min\": 0,\n        \"max\": 0,\n        \"num_unique_values\": 1,\n        \"samples\": [\n          0\n        ],\n        \"semantic_type\": \"\",\n        \"description\": \"\"\n      }\n    },\n    {\n      \"column\": \"Fare\",\n      \"properties\": {\n        \"dtype\": \"number\",\n        \"std\": null,\n        \"min\": 0,\n        \"max\": 0,\n        \"num_unique_values\": 1,\n        \"samples\": [\n          0\n        ],\n        \"semantic_type\": \"\",\n        \"description\": \"\"\n      }\n    },\n    {\n      \"column\": \"Embarked\",\n      \"properties\": {\n        \"dtype\": \"number\",\n        \"std\": null,\n        \"min\": 2,\n        \"max\": 2,\n        \"num_unique_values\": 1,\n        \"samples\": [\n          2\n        ],\n        \"semantic_type\": \"\",\n        \"description\": \"\"\n      }\n    }\n  ]\n}",
              "type": "dataframe",
              "variable_name": "missing_counts"
            },
            "text/html": [
              "\n",
              "  <div id=\"df-d655f65b-d968-403e-b1db-fe345e24f8d8\" class=\"colab-df-container\">\n",
              "    <div>\n",
              "<style scoped>\n",
              "    .dataframe tbody tr th:only-of-type {\n",
              "        vertical-align: middle;\n",
              "    }\n",
              "\n",
              "    .dataframe tbody tr th {\n",
              "        vertical-align: top;\n",
              "    }\n",
              "\n",
              "    .dataframe thead th {\n",
              "        text-align: right;\n",
              "    }\n",
              "</style>\n",
              "<table border=\"1\" class=\"dataframe\">\n",
              "  <thead>\n",
              "    <tr style=\"text-align: right;\">\n",
              "      <th></th>\n",
              "      <th>PassengerId</th>\n",
              "      <th>Survived</th>\n",
              "      <th>Pclass</th>\n",
              "      <th>Sex</th>\n",
              "      <th>Age</th>\n",
              "      <th>SibSp</th>\n",
              "      <th>Parch</th>\n",
              "      <th>Fare</th>\n",
              "      <th>Embarked</th>\n",
              "    </tr>\n",
              "  </thead>\n",
              "  <tbody>\n",
              "    <tr>\n",
              "      <th>0</th>\n",
              "      <td>0</td>\n",
              "      <td>0</td>\n",
              "      <td>0</td>\n",
              "      <td>0</td>\n",
              "      <td>177</td>\n",
              "      <td>0</td>\n",
              "      <td>0</td>\n",
              "      <td>0</td>\n",
              "      <td>2</td>\n",
              "    </tr>\n",
              "  </tbody>\n",
              "</table>\n",
              "</div>\n",
              "    <div class=\"colab-df-buttons\">\n",
              "\n",
              "  <div class=\"colab-df-container\">\n",
              "    <button class=\"colab-df-convert\" onclick=\"convertToInteractive('df-d655f65b-d968-403e-b1db-fe345e24f8d8')\"\n",
              "            title=\"Convert this dataframe to an interactive table.\"\n",
              "            style=\"display:none;\">\n",
              "\n",
              "  <svg xmlns=\"http://www.w3.org/2000/svg\" height=\"24px\" viewBox=\"0 -960 960 960\">\n",
              "    <path d=\"M120-120v-720h720v720H120Zm60-500h600v-160H180v160Zm220 220h160v-160H400v160Zm0 220h160v-160H400v160ZM180-400h160v-160H180v160Zm440 0h160v-160H620v160ZM180-180h160v-160H180v160Zm440 0h160v-160H620v160Z\"/>\n",
              "  </svg>\n",
              "    </button>\n",
              "\n",
              "  <style>\n",
              "    .colab-df-container {\n",
              "      display:flex;\n",
              "      gap: 12px;\n",
              "    }\n",
              "\n",
              "    .colab-df-convert {\n",
              "      background-color: #E8F0FE;\n",
              "      border: none;\n",
              "      border-radius: 50%;\n",
              "      cursor: pointer;\n",
              "      display: none;\n",
              "      fill: #1967D2;\n",
              "      height: 32px;\n",
              "      padding: 0 0 0 0;\n",
              "      width: 32px;\n",
              "    }\n",
              "\n",
              "    .colab-df-convert:hover {\n",
              "      background-color: #E2EBFA;\n",
              "      box-shadow: 0px 1px 2px rgba(60, 64, 67, 0.3), 0px 1px 3px 1px rgba(60, 64, 67, 0.15);\n",
              "      fill: #174EA6;\n",
              "    }\n",
              "\n",
              "    .colab-df-buttons div {\n",
              "      margin-bottom: 4px;\n",
              "    }\n",
              "\n",
              "    [theme=dark] .colab-df-convert {\n",
              "      background-color: #3B4455;\n",
              "      fill: #D2E3FC;\n",
              "    }\n",
              "\n",
              "    [theme=dark] .colab-df-convert:hover {\n",
              "      background-color: #434B5C;\n",
              "      box-shadow: 0px 1px 3px 1px rgba(0, 0, 0, 0.15);\n",
              "      filter: drop-shadow(0px 1px 2px rgba(0, 0, 0, 0.3));\n",
              "      fill: #FFFFFF;\n",
              "    }\n",
              "  </style>\n",
              "\n",
              "    <script>\n",
              "      const buttonEl =\n",
              "        document.querySelector('#df-d655f65b-d968-403e-b1db-fe345e24f8d8 button.colab-df-convert');\n",
              "      buttonEl.style.display =\n",
              "        google.colab.kernel.accessAllowed ? 'block' : 'none';\n",
              "\n",
              "      async function convertToInteractive(key) {\n",
              "        const element = document.querySelector('#df-d655f65b-d968-403e-b1db-fe345e24f8d8');\n",
              "        const dataTable =\n",
              "          await google.colab.kernel.invokeFunction('convertToInteractive',\n",
              "                                                    [key], {});\n",
              "        if (!dataTable) return;\n",
              "\n",
              "        const docLinkHtml = 'Like what you see? Visit the ' +\n",
              "          '<a target=\"_blank\" href=https://colab.research.google.com/notebooks/data_table.ipynb>data table notebook</a>'\n",
              "          + ' to learn more about interactive tables.';\n",
              "        element.innerHTML = '';\n",
              "        dataTable['output_type'] = 'display_data';\n",
              "        await google.colab.output.renderOutput(dataTable, element);\n",
              "        const docLink = document.createElement('div');\n",
              "        docLink.innerHTML = docLinkHtml;\n",
              "        element.appendChild(docLink);\n",
              "      }\n",
              "    </script>\n",
              "  </div>\n",
              "\n",
              "    </div>\n",
              "  </div>\n"
            ],
            "text/plain": [
              "   PassengerId  Survived  Pclass  Sex  Age  SibSp  Parch  Fare  Embarked\n",
              "0            0         0       0    0  177      0      0     0         2"
            ]
          },
          "execution_count": 88,
          "metadata": {},
          "output_type": "execute_result"
        }
      ],
      "source": [
        "# Count the number of missing values in each column\n",
        "missing_counts = df.select([sum(col(c).isNull().cast(\"int\")).alias(c) for c in df.columns]).toPandas()\n",
        "missing_counts"
      ]
    },
    {
      "cell_type": "markdown",
      "metadata": {
        "id": "6HBTPvAchohk"
      },
      "source": [
        "##Handling of missing values"
      ]
    },
    {
      "cell_type": "markdown",
      "metadata": {
        "id": "cPgno9lRryED"
      },
      "source": [
        "Instead of deleting the rows that contains the missing values, we decide to fill it by using mean of that column \"Age\""
      ]
    },
    {
      "cell_type": "code",
      "execution_count": null,
      "metadata": {
        "colab": {
          "base_uri": "https://localhost:8080/"
        },
        "id": "J_MuZ19DrTdK",
        "outputId": "ec5a594e-de80-4786-db45-f54fe42113f0"
      },
      "outputs": [
        {
          "data": {
            "text/plain": [
              "29.679271708683473"
            ]
          },
          "execution_count": 89,
          "metadata": {},
          "output_type": "execute_result"
        }
      ],
      "source": [
        "mean_value = df.select(mean(col('Age'))).collect()[0][0]\n",
        "mean_value"
      ]
    },
    {
      "cell_type": "code",
      "execution_count": null,
      "metadata": {
        "id": "R0xv95xmmjht"
      },
      "outputs": [],
      "source": [
        "df = df.fillna(value = mean_value, subset = [\"Age\"])"
      ]
    },
    {
      "cell_type": "code",
      "execution_count": null,
      "metadata": {
        "colab": {
          "base_uri": "https://localhost:8080/",
          "height": 81
        },
        "id": "PWpKz2-Zhumg",
        "outputId": "0b5013e7-bf1f-4a8d-cecf-33c5f195bd8b"
      },
      "outputs": [
        {
          "data": {
            "application/vnd.google.colaboratory.intrinsic+json": {
              "summary": "{\n  \"name\": \"missing_counts\",\n  \"rows\": 1,\n  \"fields\": [\n    {\n      \"column\": \"PassengerId\",\n      \"properties\": {\n        \"dtype\": \"number\",\n        \"std\": null,\n        \"min\": 0,\n        \"max\": 0,\n        \"num_unique_values\": 1,\n        \"samples\": [\n          0\n        ],\n        \"semantic_type\": \"\",\n        \"description\": \"\"\n      }\n    },\n    {\n      \"column\": \"Survived\",\n      \"properties\": {\n        \"dtype\": \"number\",\n        \"std\": null,\n        \"min\": 0,\n        \"max\": 0,\n        \"num_unique_values\": 1,\n        \"samples\": [\n          0\n        ],\n        \"semantic_type\": \"\",\n        \"description\": \"\"\n      }\n    },\n    {\n      \"column\": \"Pclass\",\n      \"properties\": {\n        \"dtype\": \"number\",\n        \"std\": null,\n        \"min\": 0,\n        \"max\": 0,\n        \"num_unique_values\": 1,\n        \"samples\": [\n          0\n        ],\n        \"semantic_type\": \"\",\n        \"description\": \"\"\n      }\n    },\n    {\n      \"column\": \"Sex\",\n      \"properties\": {\n        \"dtype\": \"number\",\n        \"std\": null,\n        \"min\": 0,\n        \"max\": 0,\n        \"num_unique_values\": 1,\n        \"samples\": [\n          0\n        ],\n        \"semantic_type\": \"\",\n        \"description\": \"\"\n      }\n    },\n    {\n      \"column\": \"Age\",\n      \"properties\": {\n        \"dtype\": \"number\",\n        \"std\": null,\n        \"min\": 0,\n        \"max\": 0,\n        \"num_unique_values\": 1,\n        \"samples\": [\n          0\n        ],\n        \"semantic_type\": \"\",\n        \"description\": \"\"\n      }\n    },\n    {\n      \"column\": \"SibSp\",\n      \"properties\": {\n        \"dtype\": \"number\",\n        \"std\": null,\n        \"min\": 0,\n        \"max\": 0,\n        \"num_unique_values\": 1,\n        \"samples\": [\n          0\n        ],\n        \"semantic_type\": \"\",\n        \"description\": \"\"\n      }\n    },\n    {\n      \"column\": \"Parch\",\n      \"properties\": {\n        \"dtype\": \"number\",\n        \"std\": null,\n        \"min\": 0,\n        \"max\": 0,\n        \"num_unique_values\": 1,\n        \"samples\": [\n          0\n        ],\n        \"semantic_type\": \"\",\n        \"description\": \"\"\n      }\n    },\n    {\n      \"column\": \"Fare\",\n      \"properties\": {\n        \"dtype\": \"number\",\n        \"std\": null,\n        \"min\": 0,\n        \"max\": 0,\n        \"num_unique_values\": 1,\n        \"samples\": [\n          0\n        ],\n        \"semantic_type\": \"\",\n        \"description\": \"\"\n      }\n    },\n    {\n      \"column\": \"Embarked\",\n      \"properties\": {\n        \"dtype\": \"number\",\n        \"std\": null,\n        \"min\": 0,\n        \"max\": 0,\n        \"num_unique_values\": 1,\n        \"samples\": [\n          0\n        ],\n        \"semantic_type\": \"\",\n        \"description\": \"\"\n      }\n    }\n  ]\n}",
              "type": "dataframe",
              "variable_name": "missing_counts"
            },
            "text/html": [
              "\n",
              "  <div id=\"df-d3139b54-6b4a-4e04-abf7-b23f4af4a8eb\" class=\"colab-df-container\">\n",
              "    <div>\n",
              "<style scoped>\n",
              "    .dataframe tbody tr th:only-of-type {\n",
              "        vertical-align: middle;\n",
              "    }\n",
              "\n",
              "    .dataframe tbody tr th {\n",
              "        vertical-align: top;\n",
              "    }\n",
              "\n",
              "    .dataframe thead th {\n",
              "        text-align: right;\n",
              "    }\n",
              "</style>\n",
              "<table border=\"1\" class=\"dataframe\">\n",
              "  <thead>\n",
              "    <tr style=\"text-align: right;\">\n",
              "      <th></th>\n",
              "      <th>PassengerId</th>\n",
              "      <th>Survived</th>\n",
              "      <th>Pclass</th>\n",
              "      <th>Sex</th>\n",
              "      <th>Age</th>\n",
              "      <th>SibSp</th>\n",
              "      <th>Parch</th>\n",
              "      <th>Fare</th>\n",
              "      <th>Embarked</th>\n",
              "    </tr>\n",
              "  </thead>\n",
              "  <tbody>\n",
              "    <tr>\n",
              "      <th>0</th>\n",
              "      <td>0</td>\n",
              "      <td>0</td>\n",
              "      <td>0</td>\n",
              "      <td>0</td>\n",
              "      <td>0</td>\n",
              "      <td>0</td>\n",
              "      <td>0</td>\n",
              "      <td>0</td>\n",
              "      <td>0</td>\n",
              "    </tr>\n",
              "  </tbody>\n",
              "</table>\n",
              "</div>\n",
              "    <div class=\"colab-df-buttons\">\n",
              "\n",
              "  <div class=\"colab-df-container\">\n",
              "    <button class=\"colab-df-convert\" onclick=\"convertToInteractive('df-d3139b54-6b4a-4e04-abf7-b23f4af4a8eb')\"\n",
              "            title=\"Convert this dataframe to an interactive table.\"\n",
              "            style=\"display:none;\">\n",
              "\n",
              "  <svg xmlns=\"http://www.w3.org/2000/svg\" height=\"24px\" viewBox=\"0 -960 960 960\">\n",
              "    <path d=\"M120-120v-720h720v720H120Zm60-500h600v-160H180v160Zm220 220h160v-160H400v160Zm0 220h160v-160H400v160ZM180-400h160v-160H180v160Zm440 0h160v-160H620v160ZM180-180h160v-160H180v160Zm440 0h160v-160H620v160Z\"/>\n",
              "  </svg>\n",
              "    </button>\n",
              "\n",
              "  <style>\n",
              "    .colab-df-container {\n",
              "      display:flex;\n",
              "      gap: 12px;\n",
              "    }\n",
              "\n",
              "    .colab-df-convert {\n",
              "      background-color: #E8F0FE;\n",
              "      border: none;\n",
              "      border-radius: 50%;\n",
              "      cursor: pointer;\n",
              "      display: none;\n",
              "      fill: #1967D2;\n",
              "      height: 32px;\n",
              "      padding: 0 0 0 0;\n",
              "      width: 32px;\n",
              "    }\n",
              "\n",
              "    .colab-df-convert:hover {\n",
              "      background-color: #E2EBFA;\n",
              "      box-shadow: 0px 1px 2px rgba(60, 64, 67, 0.3), 0px 1px 3px 1px rgba(60, 64, 67, 0.15);\n",
              "      fill: #174EA6;\n",
              "    }\n",
              "\n",
              "    .colab-df-buttons div {\n",
              "      margin-bottom: 4px;\n",
              "    }\n",
              "\n",
              "    [theme=dark] .colab-df-convert {\n",
              "      background-color: #3B4455;\n",
              "      fill: #D2E3FC;\n",
              "    }\n",
              "\n",
              "    [theme=dark] .colab-df-convert:hover {\n",
              "      background-color: #434B5C;\n",
              "      box-shadow: 0px 1px 3px 1px rgba(0, 0, 0, 0.15);\n",
              "      filter: drop-shadow(0px 1px 2px rgba(0, 0, 0, 0.3));\n",
              "      fill: #FFFFFF;\n",
              "    }\n",
              "  </style>\n",
              "\n",
              "    <script>\n",
              "      const buttonEl =\n",
              "        document.querySelector('#df-d3139b54-6b4a-4e04-abf7-b23f4af4a8eb button.colab-df-convert');\n",
              "      buttonEl.style.display =\n",
              "        google.colab.kernel.accessAllowed ? 'block' : 'none';\n",
              "\n",
              "      async function convertToInteractive(key) {\n",
              "        const element = document.querySelector('#df-d3139b54-6b4a-4e04-abf7-b23f4af4a8eb');\n",
              "        const dataTable =\n",
              "          await google.colab.kernel.invokeFunction('convertToInteractive',\n",
              "                                                    [key], {});\n",
              "        if (!dataTable) return;\n",
              "\n",
              "        const docLinkHtml = 'Like what you see? Visit the ' +\n",
              "          '<a target=\"_blank\" href=https://colab.research.google.com/notebooks/data_table.ipynb>data table notebook</a>'\n",
              "          + ' to learn more about interactive tables.';\n",
              "        element.innerHTML = '';\n",
              "        dataTable['output_type'] = 'display_data';\n",
              "        await google.colab.output.renderOutput(dataTable, element);\n",
              "        const docLink = document.createElement('div');\n",
              "        docLink.innerHTML = docLinkHtml;\n",
              "        element.appendChild(docLink);\n",
              "      }\n",
              "    </script>\n",
              "  </div>\n",
              "\n",
              "    </div>\n",
              "  </div>\n"
            ],
            "text/plain": [
              "   PassengerId  Survived  Pclass  Sex  Age  SibSp  Parch  Fare  Embarked\n",
              "0            0         0       0    0    0      0      0     0         0"
            ]
          },
          "execution_count": 91,
          "metadata": {},
          "output_type": "execute_result"
        }
      ],
      "source": [
        "df = df.dropna(subset=[\"Embarked\"]) # Delete the row that contains the missing values of column \"Embarked\"\n",
        "missing_counts = df.select([sum(col(c).isNull().cast(\"int\")).alias(c) for c in df.columns]).toPandas()\n",
        "missing_counts"
      ]
    },
    {
      "cell_type": "code",
      "execution_count": null,
      "metadata": {
        "colab": {
          "base_uri": "https://localhost:8080/",
          "height": 110
        },
        "id": "N1vIBlJiv-GK",
        "outputId": "2571ca64-05c3-4ae2-b28c-cc82615b0ffe"
      },
      "outputs": [
        {
          "data": {
            "text/html": [
              "<table border='1'>\n",
              "<tr><th>PassengerId</th><th>Survived</th><th>Pclass</th><th>Sex</th><th>Age</th><th>SibSp</th><th>Parch</th><th>Fare</th><th>Embarked</th></tr>\n",
              "<tr><td>1</td><td>0</td><td>3</td><td>male</td><td>22</td><td>1</td><td>0</td><td>7.25</td><td>S</td></tr>\n",
              "<tr><td>2</td><td>1</td><td>1</td><td>female</td><td>38</td><td>1</td><td>0</td><td>71.2833</td><td>C</td></tr>\n",
              "<tr><td>3</td><td>1</td><td>3</td><td>female</td><td>26</td><td>0</td><td>0</td><td>7.925</td><td>S</td></tr>\n",
              "</table>\n"
            ],
            "text/plain": [
              "+-----------+--------+------+------+---+-----+-----+-------+--------+\n",
              "|PassengerId|Survived|Pclass|   Sex|Age|SibSp|Parch|   Fare|Embarked|\n",
              "+-----------+--------+------+------+---+-----+-----+-------+--------+\n",
              "|          1|       0|     3|  male| 22|    1|    0|   7.25|       S|\n",
              "|          2|       1|     1|female| 38|    1|    0|71.2833|       C|\n",
              "|          3|       1|     3|female| 26|    0|    0|  7.925|       S|\n",
              "+-----------+--------+------+------+---+-----+-----+-------+--------+"
            ]
          },
          "execution_count": 92,
          "metadata": {},
          "output_type": "execute_result"
        }
      ],
      "source": [
        "df.limit(3)"
      ]
    },
    {
      "cell_type": "code",
      "execution_count": null,
      "metadata": {
        "colab": {
          "base_uri": "https://localhost:8080/"
        },
        "id": "gik01ih9l--j",
        "outputId": "8cd35efb-fe5b-41c4-d789-9d281d57737b"
      },
      "outputs": [
        {
          "data": {
            "text/plain": [
              "(889, 9)"
            ]
          },
          "execution_count": 93,
          "metadata": {},
          "output_type": "execute_result"
        }
      ],
      "source": [
        "df.toPandas().shape"
      ]
    },
    {
      "cell_type": "markdown",
      "metadata": {
        "id": "skQnimpWh_wy"
      },
      "source": [
        "# Exploratory Data Analysis"
      ]
    },
    {
      "cell_type": "markdown",
      "metadata": {
        "id": "TT1ux4JihuOv"
      },
      "source": [
        "## Data Visualisation"
      ]
    },
    {
      "cell_type": "code",
      "execution_count": null,
      "metadata": {
        "colab": {
          "base_uri": "https://localhost:8080/",
          "height": 914
        },
        "id": "c7BxnlzdvmSo",
        "outputId": "8918287f-e94e-4a06-fca1-17f441b33943"
      },
      "outputs": [
        {
          "name": "stderr",
          "output_type": "stream",
          "text": [
            "<ipython-input-94-141b8ee7c3fc>:11: FutureWarning: \n",
            "\n",
            "Passing `palette` without assigning `hue` is deprecated and will be removed in v0.14.0. Assign the `x` variable to `hue` and set `legend=False` for the same effect.\n",
            "\n",
            "  sns.countplot(x='Pclass', data=data_for_plotting, palette='viridis')\n",
            "<ipython-input-94-141b8ee7c3fc>:16: FutureWarning: \n",
            "\n",
            "Passing `palette` without assigning `hue` is deprecated and will be removed in v0.14.0. Assign the `x` variable to `hue` and set `legend=False` for the same effect.\n",
            "\n",
            "  sns.countplot(x='Sex', data=data_for_plotting, palette='pastel')\n",
            "<ipython-input-94-141b8ee7c3fc>:26: FutureWarning: \n",
            "\n",
            "Passing `palette` without assigning `hue` is deprecated and will be removed in v0.14.0. Assign the `x` variable to `hue` and set `legend=False` for the same effect.\n",
            "\n",
            "  sns.countplot(x='SibSp', data=data_for_plotting, palette='muted')\n",
            "<ipython-input-94-141b8ee7c3fc>:31: FutureWarning: \n",
            "\n",
            "Passing `palette` without assigning `hue` is deprecated and will be removed in v0.14.0. Assign the `x` variable to `hue` and set `legend=False` for the same effect.\n",
            "\n",
            "  sns.countplot(x='Parch', data=data_for_plotting, palette='deep')\n",
            "<ipython-input-94-141b8ee7c3fc>:41: FutureWarning: \n",
            "\n",
            "Passing `palette` without assigning `hue` is deprecated and will be removed in v0.14.0. Assign the `x` variable to `hue` and set `legend=False` for the same effect.\n",
            "\n",
            "  sns.countplot(x='Embarked', data=data_for_plotting, palette='dark')\n"
          ]
        },
        {
          "data": {
            "image/png": "[encoded data removed]",
            "text/plain": [
              "<Figure size 1500x1000 with 7 Axes>"
            ]
          },
          "metadata": {},
          "output_type": "display_data"
        }
      ],
      "source": [
        "data_for_plotting = df.select(['Pclass', 'Sex', 'Age', 'SibSp', 'Parch', 'Fare', 'Embarked']).toPandas()\n",
        "\n",
        "# Set the style for Seaborn\n",
        "sns.set(style=\"whitegrid\")\n",
        "\n",
        "# Plotting the distribution using Seaborn\n",
        "plt.figure(figsize=(15, 10))\n",
        "\n",
        "# Pclass distribution\n",
        "plt.subplot(3, 3, 1)\n",
        "sns.countplot(x='Pclass', data=data_for_plotting, palette='viridis')\n",
        "plt.title('Pclass Distribution')\n",
        "\n",
        "# Sex distribution\n",
        "plt.subplot(3, 3, 2)\n",
        "sns.countplot(x='Sex', data=data_for_plotting, palette='pastel')\n",
        "plt.title('Sex Distribution')\n",
        "\n",
        "# Age distribution\n",
        "plt.subplot(3, 3, 3)\n",
        "sns.histplot(data_for_plotting['Age'], bins=30, kde=True, color='skyblue')\n",
        "plt.title('Age Distribution')\n",
        "\n",
        "# SibSp distribution\n",
        "plt.subplot(3, 3, 4)\n",
        "sns.countplot(x='SibSp', data=data_for_plotting, palette='muted')\n",
        "plt.title('SibSp Distribution')\n",
        "\n",
        "# Parch distribution\n",
        "plt.subplot(3, 3, 5)\n",
        "sns.countplot(x='Parch', data=data_for_plotting, palette='deep')\n",
        "plt.title('Parch Distribution')\n",
        "\n",
        "# Fare distribution\n",
        "plt.subplot(3, 3, 6)\n",
        "sns.histplot(data_for_plotting['Fare'], bins=30, color='salmon')\n",
        "plt.title('Fare Distribution')\n",
        "\n",
        "# Embarked distribution\n",
        "plt.subplot(3, 3, 7)\n",
        "sns.countplot(x='Embarked', data=data_for_plotting, palette='dark')\n",
        "plt.title('Embarked Distribution')\n",
        "\n",
        "plt.tight_layout()\n",
        "plt.show()"
      ]
    },
    {
      "cell_type": "markdown",
      "metadata": {
        "id": "y5yehYeX4bA_"
      },
      "source": [
        "## Creation of dummy variables"
      ]
    },
    {
      "cell_type": "markdown",
      "metadata": {
        "id": "JnCOo-bn4qeV"
      },
      "source": [
        "To encode the categorical variables to numerical data, we create the dummy columns both for encoding and for data augmentation"
      ]
    },
    {
      "cell_type": "code",
      "execution_count": null,
      "metadata": {
        "colab": {
          "base_uri": "https://localhost:8080/",
          "height": 511
        },
        "id": "lm4TY0cC1oxa",
        "outputId": "aec13277-5fb2-46dd-df0d-82633ebaa166"
      },
      "outputs": [
        {
          "data": {
            "text/html": [
              "<table border='1'>\n",
              "<tr><th>age</th><th>Survived</th><th>Pclass</th><th>SibSp</th><th>Parch</th><th>Fare</th><th>Gender_female</th><th>Gender_male</th><th>Port_Q</th><th>Port_C</th><th>Port_S</th></tr>\n",
              "<tr><td>22</td><td>0</td><td>3</td><td>1</td><td>0</td><td>7.25</td><td>0</td><td>1</td><td>0</td><td>0</td><td>1</td></tr>\n",
              "<tr><td>38</td><td>1</td><td>1</td><td>1</td><td>0</td><td>71.2833</td><td>1</td><td>0</td><td>0</td><td>1</td><td>0</td></tr>\n",
              "<tr><td>26</td><td>1</td><td>3</td><td>0</td><td>0</td><td>7.925</td><td>1</td><td>0</td><td>0</td><td>0</td><td>1</td></tr>\n",
              "<tr><td>35</td><td>1</td><td>1</td><td>1</td><td>0</td><td>53.1</td><td>1</td><td>0</td><td>0</td><td>0</td><td>1</td></tr>\n",
              "<tr><td>35</td><td>0</td><td>3</td><td>0</td><td>0</td><td>8.05</td><td>0</td><td>1</td><td>0</td><td>0</td><td>1</td></tr>\n",
              "<tr><td>29</td><td>0</td><td>3</td><td>0</td><td>0</td><td>8.4583</td><td>0</td><td>1</td><td>1</td><td>0</td><td>0</td></tr>\n",
              "<tr><td>54</td><td>0</td><td>1</td><td>0</td><td>0</td><td>51.8625</td><td>0</td><td>1</td><td>0</td><td>0</td><td>1</td></tr>\n",
              "<tr><td>2</td><td>0</td><td>3</td><td>3</td><td>1</td><td>21.075</td><td>0</td><td>1</td><td>0</td><td>0</td><td>1</td></tr>\n",
              "<tr><td>27</td><td>1</td><td>3</td><td>0</td><td>2</td><td>11.1333</td><td>1</td><td>0</td><td>0</td><td>0</td><td>1</td></tr>\n",
              "<tr><td>14</td><td>1</td><td>2</td><td>1</td><td>0</td><td>30.0708</td><td>1</td><td>0</td><td>0</td><td>1</td><td>0</td></tr>\n",
              "<tr><td>4</td><td>1</td><td>3</td><td>1</td><td>1</td><td>16.7</td><td>1</td><td>0</td><td>0</td><td>0</td><td>1</td></tr>\n",
              "<tr><td>58</td><td>1</td><td>1</td><td>0</td><td>0</td><td>26.55</td><td>1</td><td>0</td><td>0</td><td>0</td><td>1</td></tr>\n",
              "<tr><td>20</td><td>0</td><td>3</td><td>0</td><td>0</td><td>8.05</td><td>0</td><td>1</td><td>0</td><td>0</td><td>1</td></tr>\n",
              "<tr><td>39</td><td>0</td><td>3</td><td>1</td><td>5</td><td>31.275</td><td>0</td><td>1</td><td>0</td><td>0</td><td>1</td></tr>\n",
              "<tr><td>14</td><td>0</td><td>3</td><td>0</td><td>0</td><td>7.8542</td><td>1</td><td>0</td><td>0</td><td>0</td><td>1</td></tr>\n",
              "<tr><td>55</td><td>1</td><td>2</td><td>0</td><td>0</td><td>16.0</td><td>1</td><td>0</td><td>0</td><td>0</td><td>1</td></tr>\n",
              "<tr><td>2</td><td>0</td><td>3</td><td>4</td><td>1</td><td>29.125</td><td>0</td><td>1</td><td>1</td><td>0</td><td>0</td></tr>\n",
              "<tr><td>29</td><td>1</td><td>2</td><td>0</td><td>0</td><td>13.0</td><td>0</td><td>1</td><td>0</td><td>0</td><td>1</td></tr>\n",
              "<tr><td>31</td><td>0</td><td>3</td><td>1</td><td>0</td><td>18.0</td><td>1</td><td>0</td><td>0</td><td>0</td><td>1</td></tr>\n",
              "<tr><td>29</td><td>1</td><td>3</td><td>0</td><td>0</td><td>7.225</td><td>1</td><td>0</td><td>0</td><td>1</td><td>0</td></tr>\n",
              "</table>\n",
              "only showing top 20 rows\n"
            ],
            "text/plain": [
              "+---+--------+------+-----+-----+-------+-------------+-----------+------+------+------+\n",
              "|age|Survived|Pclass|SibSp|Parch|   Fare|Gender_female|Gender_male|Port_Q|Port_C|Port_S|\n",
              "+---+--------+------+-----+-----+-------+-------------+-----------+------+------+------+\n",
              "| 22|       0|     3|    1|    0|   7.25|            0|          1|     0|     0|     1|\n",
              "| 38|       1|     1|    1|    0|71.2833|            1|          0|     0|     1|     0|\n",
              "| 26|       1|     3|    0|    0|  7.925|            1|          0|     0|     0|     1|\n",
              "| 35|       1|     1|    1|    0|   53.1|            1|          0|     0|     0|     1|\n",
              "| 35|       0|     3|    0|    0|   8.05|            0|          1|     0|     0|     1|\n",
              "| 29|       0|     3|    0|    0| 8.4583|            0|          1|     1|     0|     0|\n",
              "| 54|       0|     1|    0|    0|51.8625|            0|          1|     0|     0|     1|\n",
              "|  2|       0|     3|    3|    1| 21.075|            0|          1|     0|     0|     1|\n",
              "| 27|       1|     3|    0|    2|11.1333|            1|          0|     0|     0|     1|\n",
              "| 14|       1|     2|    1|    0|30.0708|            1|          0|     0|     1|     0|\n",
              "|  4|       1|     3|    1|    1|   16.7|            1|          0|     0|     0|     1|\n",
              "| 58|       1|     1|    0|    0|  26.55|            1|          0|     0|     0|     1|\n",
              "| 20|       0|     3|    0|    0|   8.05|            0|          1|     0|     0|     1|\n",
              "| 39|       0|     3|    1|    5| 31.275|            0|          1|     0|     0|     1|\n",
              "| 14|       0|     3|    0|    0| 7.8542|            1|          0|     0|     0|     1|\n",
              "| 55|       1|     2|    0|    0|   16.0|            1|          0|     0|     0|     1|\n",
              "|  2|       0|     3|    4|    1| 29.125|            0|          1|     1|     0|     0|\n",
              "| 29|       1|     2|    0|    0|   13.0|            0|          1|     0|     0|     1|\n",
              "| 31|       0|     3|    1|    0|   18.0|            1|          0|     0|     0|     1|\n",
              "| 29|       1|     3|    0|    0|  7.225|            1|          0|     0|     1|     0|\n",
              "+---+--------+------+-----+-----+-------+-------------+-----------+------+------+------+\n",
              "only showing top 20 rows"
            ]
          },
          "execution_count": 95,
          "metadata": {},
          "output_type": "execute_result"
        }
      ],
      "source": [
        "gender = df.select(\"Sex\").distinct().rdd.flatMap(lambda x: x).collect()\n",
        "embarked = df.select(\"Embarked\").distinct().rdd.flatMap(lambda x: x).collect()\n",
        "gender_expr = [F.when(F.col(\"Sex\") == sex, 1).otherwise(0).alias(\"Gender_\" + sex) for sex in gender]\n",
        "embarked_expr = [F.when(F.col(\"Embarked\") == port_name, 1).otherwise(0).alias(\"Port_\" + port_name) for port_name in embarked]\n",
        "df = df.select(\"age\",\"Survived\",\"Pclass\",\"SibSp\",\"Parch\",\"Fare\", *gender_expr+embarked_expr)\n",
        "df"
      ]
    },
    {
      "cell_type": "markdown",
      "metadata": {
        "id": "uT0IIIemiEBn"
      },
      "source": [
        "## Correlation"
      ]
    },
    {
      "cell_type": "code",
      "execution_count": null,
      "metadata": {
        "colab": {
          "base_uri": "https://localhost:8080/",
          "height": 624
        },
        "id": "ztNHPIYK6Y-M",
        "outputId": "06f44e1b-9048-423d-ea6a-b675399cb69d"
      },
      "outputs": [
        {
          "data": {
            "image/png": "[encoded data removed]",
            "text/plain": [
              "<Figure size 1200x1000 with 2 Axes>"
            ]
          },
          "metadata": {},
          "output_type": "display_data"
        }
      ],
      "source": [
        "# Obtain a matrix of correlation coefficients\n",
        "\n",
        "correlation_matrix = df.toPandas().corr()\n",
        "plt.figure(figsize=(12,10))\n",
        "sns.heatmap(correlation_matrix, annot=True, cmap=\"coolwarm\", fmt=\".2f\", linewidths=.5)\n",
        "plt.title(\"Correlation Heatmap\")\n",
        "plt.show()"
      ]
    },
    {
      "cell_type": "code",
      "execution_count": null,
      "metadata": {
        "colab": {
          "base_uri": "https://localhost:8080/",
          "height": 511
        },
        "id": "ItcdNapRc2mc",
        "outputId": "aa88ef80-457c-4689-ee36-b195733ab406"
      },
      "outputs": [
        {
          "data": {
            "text/html": [
              "<table border='1'>\n",
              "<tr><th>Survived</th><th>Pclass</th><th>SibSp</th><th>Parch</th><th>Fare</th><th>Gender_female</th><th>Gender_male</th><th>Port_Q</th><th>Port_C</th><th>Port_S</th></tr>\n",
              "<tr><td>0</td><td>3</td><td>1</td><td>0</td><td>7.25</td><td>0</td><td>1</td><td>0</td><td>0</td><td>1</td></tr>\n",
              "<tr><td>1</td><td>1</td><td>1</td><td>0</td><td>71.2833</td><td>1</td><td>0</td><td>0</td><td>1</td><td>0</td></tr>\n",
              "<tr><td>1</td><td>3</td><td>0</td><td>0</td><td>7.925</td><td>1</td><td>0</td><td>0</td><td>0</td><td>1</td></tr>\n",
              "<tr><td>1</td><td>1</td><td>1</td><td>0</td><td>53.1</td><td>1</td><td>0</td><td>0</td><td>0</td><td>1</td></tr>\n",
              "<tr><td>0</td><td>3</td><td>0</td><td>0</td><td>8.05</td><td>0</td><td>1</td><td>0</td><td>0</td><td>1</td></tr>\n",
              "<tr><td>0</td><td>3</td><td>0</td><td>0</td><td>8.4583</td><td>0</td><td>1</td><td>1</td><td>0</td><td>0</td></tr>\n",
              "<tr><td>0</td><td>1</td><td>0</td><td>0</td><td>51.8625</td><td>0</td><td>1</td><td>0</td><td>0</td><td>1</td></tr>\n",
              "<tr><td>0</td><td>3</td><td>3</td><td>1</td><td>21.075</td><td>0</td><td>1</td><td>0</td><td>0</td><td>1</td></tr>\n",
              "<tr><td>1</td><td>3</td><td>0</td><td>2</td><td>11.1333</td><td>1</td><td>0</td><td>0</td><td>0</td><td>1</td></tr>\n",
              "<tr><td>1</td><td>2</td><td>1</td><td>0</td><td>30.0708</td><td>1</td><td>0</td><td>0</td><td>1</td><td>0</td></tr>\n",
              "<tr><td>1</td><td>3</td><td>1</td><td>1</td><td>16.7</td><td>1</td><td>0</td><td>0</td><td>0</td><td>1</td></tr>\n",
              "<tr><td>1</td><td>1</td><td>0</td><td>0</td><td>26.55</td><td>1</td><td>0</td><td>0</td><td>0</td><td>1</td></tr>\n",
              "<tr><td>0</td><td>3</td><td>0</td><td>0</td><td>8.05</td><td>0</td><td>1</td><td>0</td><td>0</td><td>1</td></tr>\n",
              "<tr><td>0</td><td>3</td><td>1</td><td>5</td><td>31.275</td><td>0</td><td>1</td><td>0</td><td>0</td><td>1</td></tr>\n",
              "<tr><td>0</td><td>3</td><td>0</td><td>0</td><td>7.8542</td><td>1</td><td>0</td><td>0</td><td>0</td><td>1</td></tr>\n",
              "<tr><td>1</td><td>2</td><td>0</td><td>0</td><td>16.0</td><td>1</td><td>0</td><td>0</td><td>0</td><td>1</td></tr>\n",
              "<tr><td>0</td><td>3</td><td>4</td><td>1</td><td>29.125</td><td>0</td><td>1</td><td>1</td><td>0</td><td>0</td></tr>\n",
              "<tr><td>1</td><td>2</td><td>0</td><td>0</td><td>13.0</td><td>0</td><td>1</td><td>0</td><td>0</td><td>1</td></tr>\n",
              "<tr><td>0</td><td>3</td><td>1</td><td>0</td><td>18.0</td><td>1</td><td>0</td><td>0</td><td>0</td><td>1</td></tr>\n",
              "<tr><td>1</td><td>3</td><td>0</td><td>0</td><td>7.225</td><td>1</td><td>0</td><td>0</td><td>1</td><td>0</td></tr>\n",
              "</table>\n",
              "only showing top 20 rows\n"
            ],
            "text/plain": [
              "+--------+------+-----+-----+-------+-------------+-----------+------+------+------+\n",
              "|Survived|Pclass|SibSp|Parch|   Fare|Gender_female|Gender_male|Port_Q|Port_C|Port_S|\n",
              "+--------+------+-----+-----+-------+-------------+-----------+------+------+------+\n",
              "|       0|     3|    1|    0|   7.25|            0|          1|     0|     0|     1|\n",
              "|       1|     1|    1|    0|71.2833|            1|          0|     0|     1|     0|\n",
              "|       1|     3|    0|    0|  7.925|            1|          0|     0|     0|     1|\n",
              "|       1|     1|    1|    0|   53.1|            1|          0|     0|     0|     1|\n",
              "|       0|     3|    0|    0|   8.05|            0|          1|     0|     0|     1|\n",
              "|       0|     3|    0|    0| 8.4583|            0|          1|     1|     0|     0|\n",
              "|       0|     1|    0|    0|51.8625|            0|          1|     0|     0|     1|\n",
              "|       0|     3|    3|    1| 21.075|            0|          1|     0|     0|     1|\n",
              "|       1|     3|    0|    2|11.1333|            1|          0|     0|     0|     1|\n",
              "|       1|     2|    1|    0|30.0708|            1|          0|     0|     1|     0|\n",
              "|       1|     3|    1|    1|   16.7|            1|          0|     0|     0|     1|\n",
              "|       1|     1|    0|    0|  26.55|            1|          0|     0|     0|     1|\n",
              "|       0|     3|    0|    0|   8.05|            0|          1|     0|     0|     1|\n",
              "|       0|     3|    1|    5| 31.275|            0|          1|     0|     0|     1|\n",
              "|       0|     3|    0|    0| 7.8542|            1|          0|     0|     0|     1|\n",
              "|       1|     2|    0|    0|   16.0|            1|          0|     0|     0|     1|\n",
              "|       0|     3|    4|    1| 29.125|            0|          1|     1|     0|     0|\n",
              "|       1|     2|    0|    0|   13.0|            0|          1|     0|     0|     1|\n",
              "|       0|     3|    1|    0|   18.0|            1|          0|     0|     0|     1|\n",
              "|       1|     3|    0|    0|  7.225|            1|          0|     0|     1|     0|\n",
              "+--------+------+-----+-----+-------+-------------+-----------+------+------+------+\n",
              "only showing top 20 rows"
            ]
          },
          "execution_count": 97,
          "metadata": {},
          "output_type": "execute_result"
        }
      ],
      "source": [
        "df = df.drop('age')\n",
        "df"
      ]
    },
    {
      "cell_type": "markdown",
      "metadata": {
        "id": "DKJ1G1_ciN-h"
      },
      "source": [
        "##Descriptive Statistics"
      ]
    },
    {
      "cell_type": "code",
      "execution_count": null,
      "metadata": {
        "colab": {
          "base_uri": "https://localhost:8080/"
        },
        "id": "yeXf9SLggB9K",
        "outputId": "698d0045-ef22-4ab8-e2af-72f1e6414560"
      },
      "outputs": [
        {
          "name": "stdout",
          "output_type": "stream",
          "text": [
            "+-------------+-----------+------------+\n",
            "|Gender_female|Gender_male|SurvivalRate|\n",
            "+-------------+-----------+------------+\n",
            "|            1|          0|        0.74|\n",
            "|            0|          1|        0.19|\n",
            "+-------------+-----------+------------+\n",
            "\n"
          ]
        }
      ],
      "source": [
        "survival_rates = df.groupBy(\"Gender_female\", \"Gender_male\").agg(\n",
        "    round((sum(\"Survived\") / count(\"*\")), 2).alias(\"SurvivalRate\")\n",
        ")\n",
        "\n",
        "survival_rates.show()"
      ]
    },
    {
      "cell_type": "markdown",
      "metadata": {
        "id": "3PZptUyOiRYW"
      },
      "source": [
        "See the impact of Embarked on survival"
      ]
    },
    {
      "cell_type": "code",
      "execution_count": null,
      "metadata": {
        "colab": {
          "base_uri": "https://localhost:8080/"
        },
        "id": "_66ct-lKhl1D",
        "outputId": "2de9de64-4268-48fa-b912-214355d77560"
      },
      "outputs": [
        {
          "name": "stdout",
          "output_type": "stream",
          "text": [
            "+------+------+------+------------+\n",
            "|Port_Q|Port_C|Port_S|SurvivalRate|\n",
            "+------+------+------+------------+\n",
            "|     1|     0|     0|        0.39|\n",
            "|     0|     1|     0|        0.55|\n",
            "|     0|     0|     1|        0.34|\n",
            "+------+------+------+------------+\n",
            "\n"
          ]
        }
      ],
      "source": [
        "# Calculate survival rate\n",
        "survival_rates = df.groupBy(\"Port_Q\", \"Port_C\", \"Port_S\").agg(\n",
        "    round((sum(\"Survived\") / count(\"*\")), 2).alias(\"SurvivalRate\")\n",
        ")\n",
        "\n",
        "survival_rates.show()"
      ]
    },
    {
      "cell_type": "markdown",
      "metadata": {
        "id": "PvaRYjnTiT5W"
      },
      "source": [
        "See the impact of SibSp on survival"
      ]
    },
    {
      "cell_type": "code",
      "execution_count": null,
      "metadata": {
        "colab": {
          "base_uri": "https://localhost:8080/"
        },
        "id": "lo4fecW3iVp6",
        "outputId": "a8b428ee-bdb9-4174-959a-78cb8e6cb2c1"
      },
      "outputs": [
        {
          "name": "stdout",
          "output_type": "stream",
          "text": [
            "+-----+------------+\n",
            "|SibSp|SurvivalRate|\n",
            "+-----+------------+\n",
            "|    0|        0.34|\n",
            "|    1|        0.54|\n",
            "|    2|        0.46|\n",
            "|    3|        0.25|\n",
            "|    4|        0.17|\n",
            "|    5|         0.0|\n",
            "|    8|         0.0|\n",
            "+-----+------------+\n",
            "\n"
          ]
        }
      ],
      "source": [
        "survival_rates = df.groupBy(\"SibSp\").agg(\n",
        "    round((sum(\"Survived\") / count(\"*\")), 2).alias(\"SurvivalRate\")\n",
        ").orderBy(\"SibSp\")\n",
        "\n",
        "survival_rates.show()"
      ]
    },
    {
      "cell_type": "markdown",
      "metadata": {
        "id": "_D4uplR4iXMo"
      },
      "source": [
        "See the impact of Parch on survival"
      ]
    },
    {
      "cell_type": "code",
      "execution_count": null,
      "metadata": {
        "colab": {
          "base_uri": "https://localhost:8080/"
        },
        "id": "aIy8scl1iYMt",
        "outputId": "28f588a9-c012-4573-9b84-5b75d5429976"
      },
      "outputs": [
        {
          "name": "stdout",
          "output_type": "stream",
          "text": [
            "+-----+------------+\n",
            "|Parch|SurvivalRate|\n",
            "+-----+------------+\n",
            "|    0|        0.34|\n",
            "|    1|        0.55|\n",
            "|    2|         0.5|\n",
            "|    3|         0.6|\n",
            "|    4|         0.0|\n",
            "|    5|         0.2|\n",
            "|    6|         0.0|\n",
            "+-----+------------+\n",
            "\n"
          ]
        }
      ],
      "source": [
        "survival_rates = df.groupBy(\"Parch\").agg(\n",
        "    round((sum(\"Survived\") / count(\"*\")), 2).alias(\"SurvivalRate\")\n",
        ").orderBy(\"Parch\")\n",
        "survival_rates.show()"
      ]
    },
    {
      "cell_type": "markdown",
      "metadata": {
        "id": "JGZBaeQOibVp"
      },
      "source": [
        " So i gusse the following feuture have a relation with \"Survival\"\n",
        "\n",
        " |-- Pclass:  Ticket class   \n",
        " |-- Sex: Sex of passenger    \n",
        " |-- SibSp: siblings / spouses aboard the Titanic   \n",
        " |-- Parch: parents / children aboard the Titanic   \n",
        " |-- Fare:  Passenger fare  \n",
        " |-- Embarked: Port of Embarkation"
      ]
    },
    {
      "cell_type": "markdown",
      "metadata": {
        "id": "eEIN5XHridZW"
      },
      "source": [
        "# Data preprocessing"
      ]
    },
    {
      "cell_type": "code",
      "execution_count": null,
      "metadata": {
        "id": "8ltRPdu6AFTe"
      },
      "outputs": [],
      "source": [
        "#Split train, test dataset\n",
        "train, test = df.randomSplit([0.7, 0.3])"
      ]
    },
    {
      "cell_type": "code",
      "execution_count": null,
      "metadata": {
        "colab": {
          "base_uri": "https://localhost:8080/"
        },
        "id": "MW8htlRsAoDT",
        "outputId": "6e36e80f-ae53-41aa-b094-ef171d19f0b9"
      },
      "outputs": [
        {
          "data": {
            "text/plain": [
              "['Pclass',\n",
              " 'SibSp',\n",
              " 'Parch',\n",
              " 'Fare',\n",
              " 'Gender_female',\n",
              " 'Gender_male',\n",
              " 'Port_Q',\n",
              " 'Port_C',\n",
              " 'Port_S']"
            ]
          },
          "execution_count": 103,
          "metadata": {},
          "output_type": "execute_result"
        }
      ],
      "source": [
        "col_to_train = train.toPandas().columns.tolist()[1:]\n",
        "col_to_train"
      ]
    },
    {
      "cell_type": "markdown",
      "metadata": {
        "id": "ak7QtD4xOIYv"
      },
      "source": [
        "Use a VectorAssembler to put features into a feature vector column:"
      ]
    },
    {
      "cell_type": "code",
      "execution_count": null,
      "metadata": {
        "colab": {
          "base_uri": "https://localhost:8080/"
        },
        "id": "xeMIZn6nPaF7",
        "outputId": "7fecdb97-0038-4644-d008-0883128877c7"
      },
      "outputs": [
        {
          "name": "stdout",
          "output_type": "stream",
          "text": [
            "+--------+------+-----+-----+----+-------------+-----------+------+------+------+-------------------------+\n",
            "|Survived|Pclass|SibSp|Parch|Fare|Gender_female|Gender_male|Port_Q|Port_C|Port_S|features                 |\n",
            "+--------+------+-----+-----+----+-------------+-----------+------+------+------+-------------------------+\n",
            "|0       |1     |0    |0    |0.0 |0            |1          |0     |0     |1     |(9,[0,5,8],[1.0,1.0,1.0])|\n",
            "|0       |1     |0    |0    |0.0 |0            |1          |0     |0     |1     |(9,[0,5,8],[1.0,1.0,1.0])|\n",
            "+--------+------+-----+-----+----+-------------+-----------+------+------+------+-------------------------+\n",
            "only showing top 2 rows\n",
            "\n"
          ]
        }
      ],
      "source": [
        "\n",
        "\n",
        "# 定义特征列，排除目标列\n",
        "feature_cols = [col for col in col_to_train if col != 'Survived']\n",
        "\n",
        "# 创建 VectorAssembler，只包括特征列\n",
        "assembler = VectorAssembler(inputCols=feature_cols, outputCol='features')\n",
        "\n",
        "# 将训练数据和测试数据转换为特征向量\n",
        "train_vec = assembler.transform(train)\n",
        "test_vec = assembler.transform(test)\n",
        "\n",
        "# 展示转换后的数据\n",
        "train_vec.show(2, truncate=False)\n"
      ]
    },
    {
      "cell_type": "markdown",
      "metadata": {
        "id": "5gi-aFSBOMtF"
      },
      "source": [
        "##Standardization"
      ]
    },
    {
      "cell_type": "code",
      "execution_count": null,
      "metadata": {
        "colab": {
          "base_uri": "https://localhost:8080/"
        },
        "id": "GdhoZNmL_jvc",
        "outputId": "02ed9e4a-75f0-4736-ac93-3ce78b2fc197"
      },
      "outputs": [
        {
          "name": "stdout",
          "output_type": "stream",
          "text": [
            "+--------+------+-----+-----+----+-------------+-----------+------+------+------+-------------------------------+------------------------------------------------------------------------------------------+\n",
            "|Survived|Pclass|SibSp|Parch|Fare|Gender_female|Gender_male|Port_Q|Port_C|Port_S|features                       |features_scaled                                                                           |\n",
            "+--------+------+-----+-----+----+-------------+-----------+------+------+------+-------------------------------+------------------------------------------------------------------------------------------+\n",
            "|0       |1     |0    |0    |0.0 |0            |1          |0     |0     |1     |(9,[0,5,8],[1.0,1.0,1.0])      |(9,[0,5,8],[1.199095249232597,2.0930467375456594,2.222026806733777])                      |\n",
            "|0       |1     |0    |0    |0.0 |0            |1          |0     |0     |1     |(9,[0,5,8],[1.0,1.0,1.0])      |(9,[0,5,8],[1.199095249232597,2.0930467375456594,2.222026806733777])                      |\n",
            "|0       |1     |0    |0    |0.0 |0            |1          |0     |0     |1     |(9,[0,5,8],[1.0,1.0,1.0])      |(9,[0,5,8],[1.199095249232597,2.0930467375456594,2.222026806733777])                      |\n",
            "|0       |1     |0    |0    |0.0 |0            |1          |0     |0     |1     |(9,[0,5,8],[1.0,1.0,1.0])      |(9,[0,5,8],[1.199095249232597,2.0930467375456594,2.222026806733777])                      |\n",
            "|0       |1     |0    |0    |5.0 |0            |1          |0     |0     |1     |(9,[0,3,5,8],[1.0,5.0,1.0,1.0])|(9,[0,3,5,8],[1.199095249232597,0.09985404327232833,2.0930467375456594,2.222026806733777])|\n",
            "+--------+------+-----+-----+----+-------------+-----------+------+------+------+-------------------------------+------------------------------------------------------------------------------------------+\n",
            "only showing top 5 rows\n",
            "\n"
          ]
        }
      ],
      "source": [
        "# Initializing the StandardScaler\n",
        "standard_scaler = StandardScaler(inputCol = 'features', outputCol=\"features_scaled\")\n",
        "train_model = standard_scaler.fit(train_vec)\n",
        "\n",
        "train_scaled = train_model.transform(train_vec)\n",
        "train_scaled.show(5, truncate=False)"
      ]
    },
    {
      "cell_type": "code",
      "execution_count": null,
      "metadata": {
        "colab": {
          "base_uri": "https://localhost:8080/"
        },
        "id": "PmgSi4eDAcyu",
        "outputId": "05dd16a9-94a4-4552-dff9-7bfed755f43f"
      },
      "outputs": [
        {
          "name": "stdout",
          "output_type": "stream",
          "text": [
            "+--------+------+-----+-----+-------+-------------+-----------+------+------+------+-----------------------------------+-----------------------------------------------------------------------------------------+\n",
            "|Survived|Pclass|SibSp|Parch|Fare   |Gender_female|Gender_male|Port_Q|Port_C|Port_S|features                           |features_scaled                                                                          |\n",
            "+--------+------+-----+-----+-------+-------------+-----------+------+------+------+-----------------------------------+-----------------------------------------------------------------------------------------+\n",
            "|0       |1     |0    |0    |0.0    |0            |1          |0     |0     |1     |(9,[0,5,8],[1.0,1.0,1.0])          |(9,[0,5,8],[1.199095249232597,2.0930467375456594,2.222026806733777])                     |\n",
            "|0       |1     |0    |0    |25.5875|0            |1          |0     |0     |1     |(9,[0,3,5,8],[1.0,25.5875,1.0,1.0])|(9,[0,3,5,8],[1.199095249232597,0.5110030664461401,2.0930467375456594,2.222026806733777])|\n",
            "|0       |1     |0    |0    |26.0   |0            |1          |0     |0     |1     |(9,[0,3,5,8],[1.0,26.0,1.0,1.0])   |(9,[0,3,5,8],[1.199095249232597,0.5192410250161072,2.0930467375456594,2.222026806733777])|\n",
            "|0       |1     |0    |0    |26.55  |0            |1          |0     |0     |1     |(9,[0,3,5,8],[1.0,26.55,1.0,1.0])  |(9,[0,3,5,8],[1.199095249232597,0.5302249697760635,2.0930467375456594,2.222026806733777])|\n",
            "|0       |1     |0    |0    |26.55  |0            |1          |0     |0     |1     |(9,[0,3,5,8],[1.0,26.55,1.0,1.0])  |(9,[0,3,5,8],[1.199095249232597,0.5302249697760635,2.0930467375456594,2.222026806733777])|\n",
            "+--------+------+-----+-----+-------+-------------+-----------+------+------+------+-----------------------------------+-----------------------------------------------------------------------------------------+\n",
            "only showing top 5 rows\n",
            "\n"
          ]
        }
      ],
      "source": [
        "#With test set, we don't need to fit, we re-use the model already created by train set\n",
        "test_scaled = train_model.transform(test_vec)\n",
        "test_scaled.show(5, truncate=False)"
      ]
    },
    {
      "cell_type": "markdown",
      "metadata": {
        "id": "6aECFjWqMUlC"
      },
      "source": [
        "#Building Classification Model"
      ]
    },
    {
      "cell_type": "code",
      "execution_count": null,
      "metadata": {
        "id": "HLFANq9ziCn3"
      },
      "outputs": [],
      "source": [
        "from pyspark.sql import SparkSession\n",
        "from pyspark.ml.feature import StringIndexer, VectorAssembler\n",
        "from pyspark.ml.classification import RandomForestClassifier, LogisticRegression, GBTClassifier\n",
        "from pyspark.ml import Pipeline\n",
        "from pyspark.ml.evaluation import BinaryClassificationEvaluator, MulticlassClassificationEvaluator"
      ]
    },
    {
      "cell_type": "markdown",
      "metadata": {
        "id": "e66BgTbwMYLU"
      },
      "source": [
        "## Logistic Regression"
      ]
    },
    {
      "cell_type": "code",
      "execution_count": null,
      "metadata": {
        "colab": {
          "base_uri": "https://localhost:8080/"
        },
        "id": "vgW7UQcHIP8A",
        "outputId": "fea01337-8c18-465f-ab9a-4a066588c9af"
      },
      "outputs": [
        {
          "name": "stdout",
          "output_type": "stream",
          "text": [
            "Accuracy: 0.8077984817115254\n",
            "Precision: 0.7868224123991876\n",
            "Recall: 0.7884615384615385\n"
          ]
        }
      ],
      "source": [
        "classifier_1 = LogisticRegression(featuresCol='features_scaled', labelCol='Survived')\n",
        "# Fitting the model to the data\n",
        "model = classifier_1.fit(train_scaled)\n",
        "\n",
        "# Making predictions\n",
        "predictions = model.transform(test_scaled)\n",
        "\n",
        "# Evaluate the model using BinaryClassificationEvaluator\n",
        "accuracy_evaluator = BinaryClassificationEvaluator(labelCol='Survived', metricName='areaUnderROC')\n",
        "accuracy = accuracy_evaluator.evaluate(predictions)\n",
        "print(\"Accuracy:\", accuracy)\n",
        "\n",
        "# Evaluate the model using MulticlassClassificationEvaluator\n",
        "evaluator = MulticlassClassificationEvaluator(labelCol='Survived', metricName='weightedPrecision')\n",
        "precision = evaluator.evaluate(predictions)\n",
        "\n",
        "evaluator = MulticlassClassificationEvaluator(labelCol='Survived', metricName='weightedRecall')\n",
        "recall = evaluator.evaluate(predictions)\n",
        "\n",
        "# Print precision and recall\n",
        "print(\"Precision:\", precision)\n",
        "print(\"Recall:\", recall)"
      ]
    },
    {
      "cell_type": "markdown",
      "metadata": {
        "id": "siH9nQGCMbWr"
      },
      "source": [
        "## Random Forest"
      ]
    },
    {
      "cell_type": "code",
      "execution_count": null,
      "metadata": {
        "colab": {
          "base_uri": "https://localhost:8080/"
        },
        "id": "L1Pi-prnc_Qp",
        "outputId": "6190cc95-944f-4495-e31b-45eda33707a6"
      },
      "outputs": [
        {
          "name": "stdout",
          "output_type": "stream",
          "text": [
            "Accuracy: 0.8519355041094174\n",
            "Precision: 0.7922956824596169\n",
            "Recall: 0.7923076923076924\n"
          ]
        }
      ],
      "source": [
        "# Initializing Logistic Regression as a classifier\n",
        "classifier_2 = RandomForestClassifier(featuresCol='features_scaled', labelCol='Survived', numTrees=200)\n",
        "\n",
        "# Fitting the model to the data\n",
        "model = classifier_2.fit(train_scaled)\n",
        "\n",
        "# Making predictions\n",
        "predictions = model.transform(test_scaled)\n",
        "\n",
        "# Evaluate the model using BinaryClassificationEvaluator\n",
        "accuracy_evaluator = BinaryClassificationEvaluator(labelCol='Survived', metricName='areaUnderROC')\n",
        "accuracy = accuracy_evaluator.evaluate(predictions)\n",
        "print(\"Accuracy:\", accuracy)\n",
        "\n",
        "# Evaluate the model using MulticlassClassificationEvaluator\n",
        "evaluator = MulticlassClassificationEvaluator(labelCol='Survived', metricName='weightedPrecision')\n",
        "precision = evaluator.evaluate(predictions)\n",
        "\n",
        "evaluator = MulticlassClassificationEvaluator(labelCol='Survived', metricName='weightedRecall')\n",
        "recall = evaluator.evaluate(predictions)\n",
        "\n",
        "# Print precision and recall\n",
        "print(\"Precision:\", precision)\n",
        "print(\"Recall:\", recall)"
      ]
    },
    {
      "cell_type": "code",
      "execution_count": null,
      "metadata": {
        "colab": {
          "base_uri": "https://localhost:8080/",
          "height": 526
        },
        "id": "2gvLARJJSp_j",
        "outputId": "feabd3da-c9c0-457b-8278-fa097bd7f5d9"
      },
      "outputs": [
        {
          "data": {
            "image/png": "[encoded data removed]",
            "text/plain": [
              "<Figure size 1000x600 with 1 Axes>"
            ]
          },
          "metadata": {},
          "output_type": "display_data"
        }
      ],
      "source": [
        "feature_importances = model.featureImportances.toArray()\n",
        "\n",
        "# Get the names of the features\n",
        "feature_names = df.columns[1:]\n",
        "\n",
        "# # Sort feature importances in descending order\n",
        "indices = feature_importances.argsort()[::-1]\n",
        "\n",
        "# Plot the feature importances\n",
        "plt.figure(figsize=(10, 6))\n",
        "plt.bar(range(len(feature_importances)), feature_importances[indices], align=\"center\")\n",
        "plt.xticks(range(len(feature_importances)), [feature_names[i] for i in indices], rotation=90)\n",
        "plt.xlabel(\"Feature\")\n",
        "plt.ylabel(\"Importance\")\n",
        "plt.title(\"Random Forest Feature Importances\")\n",
        "plt.show()"
      ]
    },
    {
      "cell_type": "markdown",
      "metadata": {
        "id": "hARVNvkNMfFn"
      },
      "source": [
        "## Gradient-Boosted Trees (GBT)"
      ]
    },
    {
      "cell_type": "code",
      "execution_count": null,
      "metadata": {
        "colab": {
          "base_uri": "https://localhost:8080/"
        },
        "id": "sZNo313zLIV3",
        "outputId": "0a207387-669b-44b7-a527-87ca2f8fc114"
      },
      "outputs": [
        {
          "name": "stdout",
          "output_type": "stream",
          "text": [
            "Accuracy: 0.8389171215258171\n",
            "Precision: 0.7823265491904545\n",
            "Recall: 0.7846153846153846\n"
          ]
        }
      ],
      "source": [
        "classifier_3 = GBTClassifier(featuresCol='features_scaled', labelCol='Survived', maxDepth=4, maxIter=20)\n",
        "# Fitting the pipeline to the data\n",
        "model = classifier_3.fit(train_scaled)\n",
        "\n",
        "# Making predictions\n",
        "predictions = model.transform(test_scaled)\n",
        "\n",
        "# Evaluate the model using BinaryClassificationEvaluator\n",
        "accuracy_evaluator = BinaryClassificationEvaluator(labelCol='Survived', metricName='areaUnderROC')\n",
        "accuracy = accuracy_evaluator.evaluate(predictions)\n",
        "print(\"Accuracy:\", accuracy)\n",
        "\n",
        "# Evaluate the model using MulticlassClassificationEvaluator\n",
        "evaluator = MulticlassClassificationEvaluator(labelCol='Survived', metricName='weightedPrecision')\n",
        "precision = evaluator.evaluate(predictions)\n",
        "\n",
        "evaluator = MulticlassClassificationEvaluator(labelCol='Survived', metricName='weightedRecall')\n",
        "recall = evaluator.evaluate(predictions)\n",
        "\n",
        "# Print precision and recall\n",
        "print(\"Precision:\", precision)\n",
        "print(\"Recall:\", recall)"
      ]
    },
    {
      "cell_type": "markdown",
      "metadata": {
        "id": "PSzGVs8iaEqP"
      },
      "source": [
        "at last we choose randomforest as our model"
      ]
    },
    {
      "cell_type": "code",
      "execution_count": null,
      "metadata": {
        "colab": {
          "base_uri": "https://localhost:8080/"
        },
        "id": "0KvGGMi7Z_Aj",
        "outputId": "007d4100-946d-46db-9942-639f121f9738"
      },
      "outputs": [
        {
          "name": "stdout",
          "output_type": "stream",
          "text": [
            "Accuracy: 0.8519355041094174\n",
            "Precision: 0.7922956824596169\n",
            "Recall: 0.7923076923076924\n"
          ]
        }
      ],
      "source": [
        "# Initializing Logistic Regression as a classifier\n",
        "classifier_2 = RandomForestClassifier(featuresCol='features_scaled', labelCol='Survived', numTrees=200)\n",
        "\n",
        "# Fitting the model to the data\n",
        "model = classifier_2.fit(train_scaled)\n",
        "\n",
        "# Making predictions\n",
        "predictions = model.transform(test_scaled)\n",
        "\n",
        "# Evaluate the model using BinaryClassificationEvaluator\n",
        "accuracy_evaluator = BinaryClassificationEvaluator(labelCol='Survived', metricName='areaUnderROC')\n",
        "accuracy = accuracy_evaluator.evaluate(predictions)\n",
        "print(\"Accuracy:\", accuracy)\n",
        "\n",
        "# Evaluate the model using MulticlassClassificationEvaluator\n",
        "evaluator = MulticlassClassificationEvaluator(labelCol='Survived', metricName='weightedPrecision')\n",
        "precision = evaluator.evaluate(predictions)\n",
        "\n",
        "evaluator = MulticlassClassificationEvaluator(labelCol='Survived', metricName='weightedRecall')\n",
        "recall = evaluator.evaluate(predictions)\n",
        "\n",
        "# Print precision and recall\n",
        "print(\"Precision:\", precision)\n",
        "print(\"Recall:\", recall)"
      ]
    },
    {
      "cell_type": "code",
      "execution_count": null,
      "metadata": {
        "colab": {
          "base_uri": "https://localhost:8080/",
          "height": 319
        },
        "id": "LrrCpu3EaLCD",
        "outputId": "9f8ad2be-98f9-4753-d172-df3154ce0f8d"
      },
      "outputs": [
        {
          "data": {
            "application/vnd.google.colaboratory.intrinsic+json": {
              "repr_error": "'str' object has no attribute 'empty'",
              "type": "dataframe"
            },
            "text/html": [
              "\n",
              "  <div id=\"df-550482f3-c425-4516-87e4-125eeba30da4\" class=\"colab-df-container\">\n",
              "    <div>\n",
              "<style scoped>\n",
              "    .dataframe tbody tr th:only-of-type {\n",
              "        vertical-align: middle;\n",
              "    }\n",
              "\n",
              "    .dataframe tbody tr th {\n",
              "        vertical-align: top;\n",
              "    }\n",
              "\n",
              "    .dataframe thead th {\n",
              "        text-align: right;\n",
              "    }\n",
              "</style>\n",
              "<table border=\"1\" class=\"dataframe\">\n",
              "  <thead>\n",
              "    <tr style=\"text-align: right;\">\n",
              "      <th></th>\n",
              "      <th>PassengerId</th>\n",
              "      <th>Pclass</th>\n",
              "      <th>Name</th>\n",
              "      <th>Sex</th>\n",
              "      <th>Age</th>\n",
              "      <th>SibSp</th>\n",
              "      <th>Parch</th>\n",
              "      <th>Ticket</th>\n",
              "      <th>Fare</th>\n",
              "      <th>Cabin</th>\n",
              "      <th>Embarked</th>\n",
              "    </tr>\n",
              "  </thead>\n",
              "  <tbody>\n",
              "    <tr>\n",
              "      <th>0</th>\n",
              "      <td>892</td>\n",
              "      <td>3</td>\n",
              "      <td>Kelly, Mr. James</td>\n",
              "      <td>male</td>\n",
              "      <td>34.5</td>\n",
              "      <td>0</td>\n",
              "      <td>0</td>\n",
              "      <td>330911</td>\n",
              "      <td>7.8292</td>\n",
              "      <td>None</td>\n",
              "      <td>Q</td>\n",
              "    </tr>\n",
              "    <tr>\n",
              "      <th>1</th>\n",
              "      <td>893</td>\n",
              "      <td>3</td>\n",
              "      <td>Wilkes, Mrs. James (Ellen Needs)</td>\n",
              "      <td>female</td>\n",
              "      <td>47.0</td>\n",
              "      <td>1</td>\n",
              "      <td>0</td>\n",
              "      <td>363272</td>\n",
              "      <td>7.0000</td>\n",
              "      <td>None</td>\n",
              "      <td>S</td>\n",
              "    </tr>\n",
              "    <tr>\n",
              "      <th>2</th>\n",
              "      <td>894</td>\n",
              "      <td>2</td>\n",
              "      <td>Myles, Mr. Thomas Francis</td>\n",
              "      <td>male</td>\n",
              "      <td>62.0</td>\n",
              "      <td>0</td>\n",
              "      <td>0</td>\n",
              "      <td>240276</td>\n",
              "      <td>9.6875</td>\n",
              "      <td>None</td>\n",
              "      <td>Q</td>\n",
              "    </tr>\n",
              "  </tbody>\n",
              "</table>\n",
              "</div>\n",
              "    <div class=\"colab-df-buttons\">\n",
              "\n",
              "  <div class=\"colab-df-container\">\n",
              "    <button class=\"colab-df-convert\" onclick=\"convertToInteractive('df-550482f3-c425-4516-87e4-125eeba30da4')\"\n",
              "            title=\"Convert this dataframe to an interactive table.\"\n",
              "            style=\"display:none;\">\n",
              "\n",
              "  <svg xmlns=\"http://www.w3.org/2000/svg\" height=\"24px\" viewBox=\"0 -960 960 960\">\n",
              "    <path d=\"M120-120v-720h720v720H120Zm60-500h600v-160H180v160Zm220 220h160v-160H400v160Zm0 220h160v-160H400v160ZM180-400h160v-160H180v160Zm440 0h160v-160H620v160ZM180-180h160v-160H180v160Zm440 0h160v-160H620v160Z\"/>\n",
              "  </svg>\n",
              "    </button>\n",
              "\n",
              "  <style>\n",
              "    .colab-df-container {\n",
              "      display:flex;\n",
              "      gap: 12px;\n",
              "    }\n",
              "\n",
              "    .colab-df-convert {\n",
              "      background-color: #E8F0FE;\n",
              "      border: none;\n",
              "      border-radius: 50%;\n",
              "      cursor: pointer;\n",
              "      display: none;\n",
              "      fill: #1967D2;\n",
              "      height: 32px;\n",
              "      padding: 0 0 0 0;\n",
              "      width: 32px;\n",
              "    }\n",
              "\n",
              "    .colab-df-convert:hover {\n",
              "      background-color: #E2EBFA;\n",
              "      box-shadow: 0px 1px 2px rgba(60, 64, 67, 0.3), 0px 1px 3px 1px rgba(60, 64, 67, 0.15);\n",
              "      fill: #174EA6;\n",
              "    }\n",
              "\n",
              "    .colab-df-buttons div {\n",
              "      margin-bottom: 4px;\n",
              "    }\n",
              "\n",
              "    [theme=dark] .colab-df-convert {\n",
              "      background-color: #3B4455;\n",
              "      fill: #D2E3FC;\n",
              "    }\n",
              "\n",
              "    [theme=dark] .colab-df-convert:hover {\n",
              "      background-color: #434B5C;\n",
              "      box-shadow: 0px 1px 3px 1px rgba(0, 0, 0, 0.15);\n",
              "      filter: drop-shadow(0px 1px 2px rgba(0, 0, 0, 0.3));\n",
              "      fill: #FFFFFF;\n",
              "    }\n",
              "  </style>\n",
              "\n",
              "    <script>\n",
              "      const buttonEl =\n",
              "        document.querySelector('#df-550482f3-c425-4516-87e4-125eeba30da4 button.colab-df-convert');\n",
              "      buttonEl.style.display =\n",
              "        google.colab.kernel.accessAllowed ? 'block' : 'none';\n",
              "\n",
              "      async function convertToInteractive(key) {\n",
              "        const element = document.querySelector('#df-550482f3-c425-4516-87e4-125eeba30da4');\n",
              "        const dataTable =\n",
              "          await google.colab.kernel.invokeFunction('convertToInteractive',\n",
              "                                                    [key], {});\n",
              "        if (!dataTable) return;\n",
              "\n",
              "        const docLinkHtml = 'Like what you see? Visit the ' +\n",
              "          '<a target=\"_blank\" href=https://colab.research.google.com/notebooks/data_table.ipynb>data table notebook</a>'\n",
              "          + ' to learn more about interactive tables.';\n",
              "        element.innerHTML = '';\n",
              "        dataTable['output_type'] = 'display_data';\n",
              "        await google.colab.output.renderOutput(dataTable, element);\n",
              "        const docLink = document.createElement('div');\n",
              "        docLink.innerHTML = docLinkHtml;\n",
              "        element.appendChild(docLink);\n",
              "      }\n",
              "    </script>\n",
              "  </div>\n",
              "\n",
              "\n",
              "<div id=\"df-f0ca85b5-ccf5-4c91-b6f9-2e9b6a6315b4\">\n",
              "  <button class=\"colab-df-quickchart\" onclick=\"quickchart('df-f0ca85b5-ccf5-4c91-b6f9-2e9b6a6315b4')\"\n",
              "            title=\"Suggest charts\"\n",
              "            style=\"display:none;\">\n",
              "\n",
              "<svg xmlns=\"http://www.w3.org/2000/svg\" height=\"24px\"viewBox=\"0 0 24 24\"\n",
              "     width=\"24px\">\n",
              "    <g>\n",
              "        <path d=\"M19 3H5c-1.1 0-2 .9-2 2v14c0 1.1.9 2 2 2h14c1.1 0 2-.9 2-2V5c0-1.1-.9-2-2-2zM9 17H7v-7h2v7zm4 0h-2V7h2v10zm4 0h-2v-4h2v4z\"/>\n",
              "    </g>\n",
              "</svg>\n",
              "  </button>\n",
              "\n",
              "<style>\n",
              "  .colab-df-quickchart {\n",
              "      --bg-color: #E8F0FE;\n",
              "      --fill-color: #1967D2;\n",
              "      --hover-bg-color: #E2EBFA;\n",
              "      --hover-fill-color: #174EA6;\n",
              "      --disabled-fill-color: #AAA;\n",
              "      --disabled-bg-color: #DDD;\n",
              "  }\n",
              "\n",
              "  [theme=dark] .colab-df-quickchart {\n",
              "      --bg-color: #3B4455;\n",
              "      --fill-color: #D2E3FC;\n",
              "      --hover-bg-color: #434B5C;\n",
              "      --hover-fill-color: #FFFFFF;\n",
              "      --disabled-bg-color: #3B4455;\n",
              "      --disabled-fill-color: #666;\n",
              "  }\n",
              "\n",
              "  .colab-df-quickchart {\n",
              "    background-color: var(--bg-color);\n",
              "    border: none;\n",
              "    border-radius: 50%;\n",
              "    cursor: pointer;\n",
              "    display: none;\n",
              "    fill: var(--fill-color);\n",
              "    height: 32px;\n",
              "    padding: 0;\n",
              "    width: 32px;\n",
              "  }\n",
              "\n",
              "  .colab-df-quickchart:hover {\n",
              "    background-color: var(--hover-bg-color);\n",
              "    box-shadow: 0 1px 2px rgba(60, 64, 67, 0.3), 0 1px 3px 1px rgba(60, 64, 67, 0.15);\n",
              "    fill: var(--button-hover-fill-color);\n",
              "  }\n",
              "\n",
              "  .colab-df-quickchart-complete:disabled,\n",
              "  .colab-df-quickchart-complete:disabled:hover {\n",
              "    background-color: var(--disabled-bg-color);\n",
              "    fill: var(--disabled-fill-color);\n",
              "    box-shadow: none;\n",
              "  }\n",
              "\n",
              "  .colab-df-spinner {\n",
              "    border: 2px solid var(--fill-color);\n",
              "    border-color: transparent;\n",
              "    border-bottom-color: var(--fill-color);\n",
              "    animation:\n",
              "      spin 1s steps(1) infinite;\n",
              "  }\n",
              "\n",
              "  @keyframes spin {\n",
              "    0% {\n",
              "      border-color: transparent;\n",
              "      border-bottom-color: var(--fill-color);\n",
              "      border-left-color: var(--fill-color);\n",
              "    }\n",
              "    20% {\n",
              "      border-color: transparent;\n",
              "      border-left-color: var(--fill-color);\n",
              "      border-top-color: var(--fill-color);\n",
              "    }\n",
              "    30% {\n",
              "      border-color: transparent;\n",
              "      border-left-color: var(--fill-color);\n",
              "      border-top-color: var(--fill-color);\n",
              "      border-right-color: var(--fill-color);\n",
              "    }\n",
              "    40% {\n",
              "      border-color: transparent;\n",
              "      border-right-color: var(--fill-color);\n",
              "      border-top-color: var(--fill-color);\n",
              "    }\n",
              "    60% {\n",
              "      border-color: transparent;\n",
              "      border-right-color: var(--fill-color);\n",
              "    }\n",
              "    80% {\n",
              "      border-color: transparent;\n",
              "      border-right-color: var(--fill-color);\n",
              "      border-bottom-color: var(--fill-color);\n",
              "    }\n",
              "    90% {\n",
              "      border-color: transparent;\n",
              "      border-bottom-color: var(--fill-color);\n",
              "    }\n",
              "  }\n",
              "</style>\n",
              "\n",
              "  <script>\n",
              "    async function quickchart(key) {\n",
              "      const quickchartButtonEl =\n",
              "        document.querySelector('#' + key + ' button');\n",
              "      quickchartButtonEl.disabled = true;  // To prevent multiple clicks.\n",
              "      quickchartButtonEl.classList.add('colab-df-spinner');\n",
              "      try {\n",
              "        const charts = await google.colab.kernel.invokeFunction(\n",
              "            'suggestCharts', [key], {});\n",
              "      } catch (error) {\n",
              "        console.error('Error during call to suggestCharts:', error);\n",
              "      }\n",
              "      quickchartButtonEl.classList.remove('colab-df-spinner');\n",
              "      quickchartButtonEl.classList.add('colab-df-quickchart-complete');\n",
              "    }\n",
              "    (() => {\n",
              "      let quickchartButtonEl =\n",
              "        document.querySelector('#df-f0ca85b5-ccf5-4c91-b6f9-2e9b6a6315b4 button');\n",
              "      quickchartButtonEl.style.display =\n",
              "        google.colab.kernel.accessAllowed ? 'block' : 'none';\n",
              "    })();\n",
              "  </script>\n",
              "</div>\n",
              "    </div>\n",
              "  </div>\n"
            ],
            "text/plain": [
              "   PassengerId  Pclass                              Name     Sex   Age  SibSp  \\\n",
              "0          892       3                  Kelly, Mr. James    male  34.5      0   \n",
              "1          893       3  Wilkes, Mrs. James (Ellen Needs)  female  47.0      1   \n",
              "2          894       2         Myles, Mr. Thomas Francis    male  62.0      0   \n",
              "\n",
              "   Parch  Ticket    Fare Cabin Embarked  \n",
              "0      0  330911  7.8292  None        Q  \n",
              "1      0  363272  7.0000  None        S  \n",
              "2      0  240276  9.6875  None        Q  "
            ]
          },
          "execution_count": 132,
          "metadata": {},
          "output_type": "execute_result"
        }
      ],
      "source": [
        "df_test = spark.read.csv('test.csv',header = 'True',inferSchema='True')\n",
        "df_test.limit(3).toPandas()"
      ]
    },
    {
      "cell_type": "code",
      "execution_count": null,
      "metadata": {
        "colab": {
          "base_uri": "https://localhost:8080/",
          "height": 101
        },
        "id": "6nT1f2Jbaq1Y",
        "outputId": "66e56194-1e13-4173-dd80-17f2ad63ea9f"
      },
      "outputs": [
        {
          "data": {
            "application/vnd.google.colaboratory.intrinsic+json": {
              "summary": "{\n  \"name\": \"missing_counts\",\n  \"rows\": 1,\n  \"fields\": [\n    {\n      \"column\": \"PassengerId\",\n      \"properties\": {\n        \"dtype\": \"number\",\n        \"std\": null,\n        \"min\": 0,\n        \"max\": 0,\n        \"num_unique_values\": 1,\n        \"samples\": [\n          0\n        ],\n        \"semantic_type\": \"\",\n        \"description\": \"\"\n      }\n    },\n    {\n      \"column\": \"Pclass\",\n      \"properties\": {\n        \"dtype\": \"number\",\n        \"std\": null,\n        \"min\": 0,\n        \"max\": 0,\n        \"num_unique_values\": 1,\n        \"samples\": [\n          0\n        ],\n        \"semantic_type\": \"\",\n        \"description\": \"\"\n      }\n    },\n    {\n      \"column\": \"Name\",\n      \"properties\": {\n        \"dtype\": \"number\",\n        \"std\": null,\n        \"min\": 0,\n        \"max\": 0,\n        \"num_unique_values\": 1,\n        \"samples\": [\n          0\n        ],\n        \"semantic_type\": \"\",\n        \"description\": \"\"\n      }\n    },\n    {\n      \"column\": \"Sex\",\n      \"properties\": {\n        \"dtype\": \"number\",\n        \"std\": null,\n        \"min\": 0,\n        \"max\": 0,\n        \"num_unique_values\": 1,\n        \"samples\": [\n          0\n        ],\n        \"semantic_type\": \"\",\n        \"description\": \"\"\n      }\n    },\n    {\n      \"column\": \"Age\",\n      \"properties\": {\n        \"dtype\": \"number\",\n        \"std\": null,\n        \"min\": 86,\n        \"max\": 86,\n        \"num_unique_values\": 1,\n        \"samples\": [\n          86\n        ],\n        \"semantic_type\": \"\",\n        \"description\": \"\"\n      }\n    },\n    {\n      \"column\": \"SibSp\",\n      \"properties\": {\n        \"dtype\": \"number\",\n        \"std\": null,\n        \"min\": 0,\n        \"max\": 0,\n        \"num_unique_values\": 1,\n        \"samples\": [\n          0\n        ],\n        \"semantic_type\": \"\",\n        \"description\": \"\"\n      }\n    },\n    {\n      \"column\": \"Parch\",\n      \"properties\": {\n        \"dtype\": \"number\",\n        \"std\": null,\n        \"min\": 0,\n        \"max\": 0,\n        \"num_unique_values\": 1,\n        \"samples\": [\n          0\n        ],\n        \"semantic_type\": \"\",\n        \"description\": \"\"\n      }\n    },\n    {\n      \"column\": \"Ticket\",\n      \"properties\": {\n        \"dtype\": \"number\",\n        \"std\": null,\n        \"min\": 0,\n        \"max\": 0,\n        \"num_unique_values\": 1,\n        \"samples\": [\n          0\n        ],\n        \"semantic_type\": \"\",\n        \"description\": \"\"\n      }\n    },\n    {\n      \"column\": \"Fare\",\n      \"properties\": {\n        \"dtype\": \"number\",\n        \"std\": null,\n        \"min\": 1,\n        \"max\": 1,\n        \"num_unique_values\": 1,\n        \"samples\": [\n          1\n        ],\n        \"semantic_type\": \"\",\n        \"description\": \"\"\n      }\n    },\n    {\n      \"column\": \"Cabin\",\n      \"properties\": {\n        \"dtype\": \"number\",\n        \"std\": null,\n        \"min\": 327,\n        \"max\": 327,\n        \"num_unique_values\": 1,\n        \"samples\": [\n          327\n        ],\n        \"semantic_type\": \"\",\n        \"description\": \"\"\n      }\n    },\n    {\n      \"column\": \"Embarked\",\n      \"properties\": {\n        \"dtype\": \"number\",\n        \"std\": null,\n        \"min\": 0,\n        \"max\": 0,\n        \"num_unique_values\": 1,\n        \"samples\": [\n          0\n        ],\n        \"semantic_type\": \"\",\n        \"description\": \"\"\n      }\n    }\n  ]\n}",
              "type": "dataframe",
              "variable_name": "missing_counts"
            },
            "text/html": [
              "\n",
              "  <div id=\"df-cbf4d4cd-36b2-476e-b966-5d2c7c985dac\" class=\"colab-df-container\">\n",
              "    <div>\n",
              "<style scoped>\n",
              "    .dataframe tbody tr th:only-of-type {\n",
              "        vertical-align: middle;\n",
              "    }\n",
              "\n",
              "    .dataframe tbody tr th {\n",
              "        vertical-align: top;\n",
              "    }\n",
              "\n",
              "    .dataframe thead th {\n",
              "        text-align: right;\n",
              "    }\n",
              "</style>\n",
              "<table border=\"1\" class=\"dataframe\">\n",
              "  <thead>\n",
              "    <tr style=\"text-align: right;\">\n",
              "      <th></th>\n",
              "      <th>PassengerId</th>\n",
              "      <th>Pclass</th>\n",
              "      <th>Name</th>\n",
              "      <th>Sex</th>\n",
              "      <th>Age</th>\n",
              "      <th>SibSp</th>\n",
              "      <th>Parch</th>\n",
              "      <th>Ticket</th>\n",
              "      <th>Fare</th>\n",
              "      <th>Cabin</th>\n",
              "      <th>Embarked</th>\n",
              "    </tr>\n",
              "  </thead>\n",
              "  <tbody>\n",
              "    <tr>\n",
              "      <th>0</th>\n",
              "      <td>0</td>\n",
              "      <td>0</td>\n",
              "      <td>0</td>\n",
              "      <td>0</td>\n",
              "      <td>86</td>\n",
              "      <td>0</td>\n",
              "      <td>0</td>\n",
              "      <td>0</td>\n",
              "      <td>1</td>\n",
              "      <td>327</td>\n",
              "      <td>0</td>\n",
              "    </tr>\n",
              "  </tbody>\n",
              "</table>\n",
              "</div>\n",
              "    <div class=\"colab-df-buttons\">\n",
              "\n",
              "  <div class=\"colab-df-container\">\n",
              "    <button class=\"colab-df-convert\" onclick=\"convertToInteractive('df-cbf4d4cd-36b2-476e-b966-5d2c7c985dac')\"\n",
              "            title=\"Convert this dataframe to an interactive table.\"\n",
              "            style=\"display:none;\">\n",
              "\n",
              "  <svg xmlns=\"http://www.w3.org/2000/svg\" height=\"24px\" viewBox=\"0 -960 960 960\">\n",
              "    <path d=\"M120-120v-720h720v720H120Zm60-500h600v-160H180v160Zm220 220h160v-160H400v160Zm0 220h160v-160H400v160ZM180-400h160v-160H180v160Zm440 0h160v-160H620v160ZM180-180h160v-160H180v160Zm440 0h160v-160H620v160Z\"/>\n",
              "  </svg>\n",
              "    </button>\n",
              "\n",
              "  <style>\n",
              "    .colab-df-container {\n",
              "      display:flex;\n",
              "      gap: 12px;\n",
              "    }\n",
              "\n",
              "    .colab-df-convert {\n",
              "      background-color: #E8F0FE;\n",
              "      border: none;\n",
              "      border-radius: 50%;\n",
              "      cursor: pointer;\n",
              "      display: none;\n",
              "      fill: #1967D2;\n",
              "      height: 32px;\n",
              "      padding: 0 0 0 0;\n",
              "      width: 32px;\n",
              "    }\n",
              "\n",
              "    .colab-df-convert:hover {\n",
              "      background-color: #E2EBFA;\n",
              "      box-shadow: 0px 1px 2px rgba(60, 64, 67, 0.3), 0px 1px 3px 1px rgba(60, 64, 67, 0.15);\n",
              "      fill: #174EA6;\n",
              "    }\n",
              "\n",
              "    .colab-df-buttons div {\n",
              "      margin-bottom: 4px;\n",
              "    }\n",
              "\n",
              "    [theme=dark] .colab-df-convert {\n",
              "      background-color: #3B4455;\n",
              "      fill: #D2E3FC;\n",
              "    }\n",
              "\n",
              "    [theme=dark] .colab-df-convert:hover {\n",
              "      background-color: #434B5C;\n",
              "      box-shadow: 0px 1px 3px 1px rgba(0, 0, 0, 0.15);\n",
              "      filter: drop-shadow(0px 1px 2px rgba(0, 0, 0, 0.3));\n",
              "      fill: #FFFFFF;\n",
              "    }\n",
              "  </style>\n",
              "\n",
              "    <script>\n",
              "      const buttonEl =\n",
              "        document.querySelector('#df-cbf4d4cd-36b2-476e-b966-5d2c7c985dac button.colab-df-convert');\n",
              "      buttonEl.style.display =\n",
              "        google.colab.kernel.accessAllowed ? 'block' : 'none';\n",
              "\n",
              "      async function convertToInteractive(key) {\n",
              "        const element = document.querySelector('#df-cbf4d4cd-36b2-476e-b966-5d2c7c985dac');\n",
              "        const dataTable =\n",
              "          await google.colab.kernel.invokeFunction('convertToInteractive',\n",
              "                                                    [key], {});\n",
              "        if (!dataTable) return;\n",
              "\n",
              "        const docLinkHtml = 'Like what you see? Visit the ' +\n",
              "          '<a target=\"_blank\" href=https://colab.research.google.com/notebooks/data_table.ipynb>data table notebook</a>'\n",
              "          + ' to learn more about interactive tables.';\n",
              "        element.innerHTML = '';\n",
              "        dataTable['output_type'] = 'display_data';\n",
              "        await google.colab.output.renderOutput(dataTable, element);\n",
              "        const docLink = document.createElement('div');\n",
              "        docLink.innerHTML = docLinkHtml;\n",
              "        element.appendChild(docLink);\n",
              "      }\n",
              "    </script>\n",
              "  </div>\n",
              "\n",
              "    </div>\n",
              "  </div>\n"
            ],
            "text/plain": [
              "   PassengerId  Pclass  Name  Sex  Age  SibSp  Parch  Ticket  Fare  Cabin  \\\n",
              "0            0       0     0    0   86      0      0       0     1    327   \n",
              "\n",
              "   Embarked  \n",
              "0         0  "
            ]
          },
          "execution_count": 133,
          "metadata": {},
          "output_type": "execute_result"
        }
      ],
      "source": [
        "# Count the number of missing values in each column\n",
        "missing_counts = df_test.select([sum(col(c).isNull().cast(\"int\")).alias(c) for c in df_test.columns]).toPandas()\n",
        "missing_counts"
      ]
    },
    {
      "cell_type": "code",
      "execution_count": null,
      "metadata": {
        "id": "NIPHp3ptbL2P"
      },
      "outputs": [],
      "source": [
        "df_test = df_test.drop('Cabin', 'Name', 'Ticket','age')"
      ]
    },
    {
      "cell_type": "code",
      "execution_count": null,
      "metadata": {
        "colab": {
          "base_uri": "https://localhost:8080/",
          "height": 81
        },
        "id": "nMqPjDCKdaH5",
        "outputId": "b44630f3-07a0-41d3-ff47-76c4cb566c40"
      },
      "outputs": [
        {
          "data": {
            "application/vnd.google.colaboratory.intrinsic+json": {
              "summary": "{\n  \"name\": \"missing_counts\",\n  \"rows\": 1,\n  \"fields\": [\n    {\n      \"column\": \"PassengerId\",\n      \"properties\": {\n        \"dtype\": \"number\",\n        \"std\": null,\n        \"min\": 0,\n        \"max\": 0,\n        \"num_unique_values\": 1,\n        \"samples\": [\n          0\n        ],\n        \"semantic_type\": \"\",\n        \"description\": \"\"\n      }\n    },\n    {\n      \"column\": \"Pclass\",\n      \"properties\": {\n        \"dtype\": \"number\",\n        \"std\": null,\n        \"min\": 0,\n        \"max\": 0,\n        \"num_unique_values\": 1,\n        \"samples\": [\n          0\n        ],\n        \"semantic_type\": \"\",\n        \"description\": \"\"\n      }\n    },\n    {\n      \"column\": \"Sex\",\n      \"properties\": {\n        \"dtype\": \"number\",\n        \"std\": null,\n        \"min\": 0,\n        \"max\": 0,\n        \"num_unique_values\": 1,\n        \"samples\": [\n          0\n        ],\n        \"semantic_type\": \"\",\n        \"description\": \"\"\n      }\n    },\n    {\n      \"column\": \"SibSp\",\n      \"properties\": {\n        \"dtype\": \"number\",\n        \"std\": null,\n        \"min\": 0,\n        \"max\": 0,\n        \"num_unique_values\": 1,\n        \"samples\": [\n          0\n        ],\n        \"semantic_type\": \"\",\n        \"description\": \"\"\n      }\n    },\n    {\n      \"column\": \"Parch\",\n      \"properties\": {\n        \"dtype\": \"number\",\n        \"std\": null,\n        \"min\": 0,\n        \"max\": 0,\n        \"num_unique_values\": 1,\n        \"samples\": [\n          0\n        ],\n        \"semantic_type\": \"\",\n        \"description\": \"\"\n      }\n    },\n    {\n      \"column\": \"Fare\",\n      \"properties\": {\n        \"dtype\": \"number\",\n        \"std\": null,\n        \"min\": 1,\n        \"max\": 1,\n        \"num_unique_values\": 1,\n        \"samples\": [\n          1\n        ],\n        \"semantic_type\": \"\",\n        \"description\": \"\"\n      }\n    },\n    {\n      \"column\": \"Embarked\",\n      \"properties\": {\n        \"dtype\": \"number\",\n        \"std\": null,\n        \"min\": 0,\n        \"max\": 0,\n        \"num_unique_values\": 1,\n        \"samples\": [\n          0\n        ],\n        \"semantic_type\": \"\",\n        \"description\": \"\"\n      }\n    }\n  ]\n}",
              "type": "dataframe",
              "variable_name": "missing_counts"
            },
            "text/html": [
              "\n",
              "  <div id=\"df-8db38e45-6543-4a81-bd51-474e4a2ea343\" class=\"colab-df-container\">\n",
              "    <div>\n",
              "<style scoped>\n",
              "    .dataframe tbody tr th:only-of-type {\n",
              "        vertical-align: middle;\n",
              "    }\n",
              "\n",
              "    .dataframe tbody tr th {\n",
              "        vertical-align: top;\n",
              "    }\n",
              "\n",
              "    .dataframe thead th {\n",
              "        text-align: right;\n",
              "    }\n",
              "</style>\n",
              "<table border=\"1\" class=\"dataframe\">\n",
              "  <thead>\n",
              "    <tr style=\"text-align: right;\">\n",
              "      <th></th>\n",
              "      <th>PassengerId</th>\n",
              "      <th>Pclass</th>\n",
              "      <th>Sex</th>\n",
              "      <th>SibSp</th>\n",
              "      <th>Parch</th>\n",
              "      <th>Fare</th>\n",
              "      <th>Embarked</th>\n",
              "    </tr>\n",
              "  </thead>\n",
              "  <tbody>\n",
              "    <tr>\n",
              "      <th>0</th>\n",
              "      <td>0</td>\n",
              "      <td>0</td>\n",
              "      <td>0</td>\n",
              "      <td>0</td>\n",
              "      <td>0</td>\n",
              "      <td>1</td>\n",
              "      <td>0</td>\n",
              "    </tr>\n",
              "  </tbody>\n",
              "</table>\n",
              "</div>\n",
              "    <div class=\"colab-df-buttons\">\n",
              "\n",
              "  <div class=\"colab-df-container\">\n",
              "    <button class=\"colab-df-convert\" onclick=\"convertToInteractive('df-8db38e45-6543-4a81-bd51-474e4a2ea343')\"\n",
              "            title=\"Convert this dataframe to an interactive table.\"\n",
              "            style=\"display:none;\">\n",
              "\n",
              "  <svg xmlns=\"http://www.w3.org/2000/svg\" height=\"24px\" viewBox=\"0 -960 960 960\">\n",
              "    <path d=\"M120-120v-720h720v720H120Zm60-500h600v-160H180v160Zm220 220h160v-160H400v160Zm0 220h160v-160H400v160ZM180-400h160v-160H180v160Zm440 0h160v-160H620v160ZM180-180h160v-160H180v160Zm440 0h160v-160H620v160Z\"/>\n",
              "  </svg>\n",
              "    </button>\n",
              "\n",
              "  <style>\n",
              "    .colab-df-container {\n",
              "      display:flex;\n",
              "      gap: 12px;\n",
              "    }\n",
              "\n",
              "    .colab-df-convert {\n",
              "      background-color: #E8F0FE;\n",
              "      border: none;\n",
              "      border-radius: 50%;\n",
              "      cursor: pointer;\n",
              "      display: none;\n",
              "      fill: #1967D2;\n",
              "      height: 32px;\n",
              "      padding: 0 0 0 0;\n",
              "      width: 32px;\n",
              "    }\n",
              "\n",
              "    .colab-df-convert:hover {\n",
              "      background-color: #E2EBFA;\n",
              "      box-shadow: 0px 1px 2px rgba(60, 64, 67, 0.3), 0px 1px 3px 1px rgba(60, 64, 67, 0.15);\n",
              "      fill: #174EA6;\n",
              "    }\n",
              "\n",
              "    .colab-df-buttons div {\n",
              "      margin-bottom: 4px;\n",
              "    }\n",
              "\n",
              "    [theme=dark] .colab-df-convert {\n",
              "      background-color: #3B4455;\n",
              "      fill: #D2E3FC;\n",
              "    }\n",
              "\n",
              "    [theme=dark] .colab-df-convert:hover {\n",
              "      background-color: #434B5C;\n",
              "      box-shadow: 0px 1px 3px 1px rgba(0, 0, 0, 0.15);\n",
              "      filter: drop-shadow(0px 1px 2px rgba(0, 0, 0, 0.3));\n",
              "      fill: #FFFFFF;\n",
              "    }\n",
              "  </style>\n",
              "\n",
              "    <script>\n",
              "      const buttonEl =\n",
              "        document.querySelector('#df-8db38e45-6543-4a81-bd51-474e4a2ea343 button.colab-df-convert');\n",
              "      buttonEl.style.display =\n",
              "        google.colab.kernel.accessAllowed ? 'block' : 'none';\n",
              "\n",
              "      async function convertToInteractive(key) {\n",
              "        const element = document.querySelector('#df-8db38e45-6543-4a81-bd51-474e4a2ea343');\n",
              "        const dataTable =\n",
              "          await google.colab.kernel.invokeFunction('convertToInteractive',\n",
              "                                                    [key], {});\n",
              "        if (!dataTable) return;\n",
              "\n",
              "        const docLinkHtml = 'Like what you see? Visit the ' +\n",
              "          '<a target=\"_blank\" href=https://colab.research.google.com/notebooks/data_table.ipynb>data table notebook</a>'\n",
              "          + ' to learn more about interactive tables.';\n",
              "        element.innerHTML = '';\n",
              "        dataTable['output_type'] = 'display_data';\n",
              "        await google.colab.output.renderOutput(dataTable, element);\n",
              "        const docLink = document.createElement('div');\n",
              "        docLink.innerHTML = docLinkHtml;\n",
              "        element.appendChild(docLink);\n",
              "      }\n",
              "    </script>\n",
              "  </div>\n",
              "\n",
              "    </div>\n",
              "  </div>\n"
            ],
            "text/plain": [
              "   PassengerId  Pclass  Sex  SibSp  Parch  Fare  Embarked\n",
              "0            0       0    0      0      0     1         0"
            ]
          },
          "execution_count": 135,
          "metadata": {},
          "output_type": "execute_result"
        }
      ],
      "source": [
        "# Count the number of missing values in each column\n",
        "missing_counts = df_test.select([sum(col(c).isNull().cast(\"int\")).alias(c) for c in df_test.columns]).toPandas()\n",
        "missing_counts"
      ]
    },
    {
      "cell_type": "code",
      "execution_count": null,
      "metadata": {
        "colab": {
          "base_uri": "https://localhost:8080/"
        },
        "id": "Wp6RBfjJddJt",
        "outputId": "ee971bba-f9fd-4cad-c66c-7a985a1bda8a"
      },
      "outputs": [
        {
          "data": {
            "text/plain": [
              "35.6271884892086"
            ]
          },
          "execution_count": 136,
          "metadata": {},
          "output_type": "execute_result"
        }
      ],
      "source": [
        "mean_value_Fare = df_test.select(mean(col('Fare'))).collect()[0][0]\n",
        "mean_value_Fare"
      ]
    },
    {
      "cell_type": "code",
      "execution_count": null,
      "metadata": {
        "id": "qM2x_dVwdpnk"
      },
      "outputs": [],
      "source": [
        "df_test = df_test.fillna(value = mean_value, subset = [\"Fare\"])"
      ]
    },
    {
      "cell_type": "code",
      "execution_count": null,
      "metadata": {
        "colab": {
          "base_uri": "https://localhost:8080/",
          "height": 511
        },
        "id": "sFULEIljdw17",
        "outputId": "15cd74a4-100f-4558-b5bc-fa71408c9277"
      },
      "outputs": [
        {
          "data": {
            "text/html": [
              "<table border='1'>\n",
              "<tr><th>PassengerId</th><th>Pclass</th><th>Sex</th><th>SibSp</th><th>Parch</th><th>Fare</th><th>Embarked</th></tr>\n",
              "<tr><td>892</td><td>3</td><td>male</td><td>0</td><td>0</td><td>7.8292</td><td>Q</td></tr>\n",
              "<tr><td>893</td><td>3</td><td>female</td><td>1</td><td>0</td><td>7.0</td><td>S</td></tr>\n",
              "<tr><td>894</td><td>2</td><td>male</td><td>0</td><td>0</td><td>9.6875</td><td>Q</td></tr>\n",
              "<tr><td>895</td><td>3</td><td>male</td><td>0</td><td>0</td><td>8.6625</td><td>S</td></tr>\n",
              "<tr><td>896</td><td>3</td><td>female</td><td>1</td><td>1</td><td>12.2875</td><td>S</td></tr>\n",
              "<tr><td>897</td><td>3</td><td>male</td><td>0</td><td>0</td><td>9.225</td><td>S</td></tr>\n",
              "<tr><td>898</td><td>3</td><td>female</td><td>0</td><td>0</td><td>7.6292</td><td>Q</td></tr>\n",
              "<tr><td>899</td><td>2</td><td>male</td><td>1</td><td>1</td><td>29.0</td><td>S</td></tr>\n",
              "<tr><td>900</td><td>3</td><td>female</td><td>0</td><td>0</td><td>7.2292</td><td>C</td></tr>\n",
              "<tr><td>901</td><td>3</td><td>male</td><td>2</td><td>0</td><td>24.15</td><td>S</td></tr>\n",
              "<tr><td>902</td><td>3</td><td>male</td><td>0</td><td>0</td><td>7.8958</td><td>S</td></tr>\n",
              "<tr><td>903</td><td>1</td><td>male</td><td>0</td><td>0</td><td>26.0</td><td>S</td></tr>\n",
              "<tr><td>904</td><td>1</td><td>female</td><td>1</td><td>0</td><td>82.2667</td><td>S</td></tr>\n",
              "<tr><td>905</td><td>2</td><td>male</td><td>1</td><td>0</td><td>26.0</td><td>S</td></tr>\n",
              "<tr><td>906</td><td>1</td><td>female</td><td>1</td><td>0</td><td>61.175</td><td>S</td></tr>\n",
              "<tr><td>907</td><td>2</td><td>female</td><td>1</td><td>0</td><td>27.7208</td><td>C</td></tr>\n",
              "<tr><td>908</td><td>2</td><td>male</td><td>0</td><td>0</td><td>12.35</td><td>Q</td></tr>\n",
              "<tr><td>909</td><td>3</td><td>male</td><td>0</td><td>0</td><td>7.225</td><td>C</td></tr>\n",
              "<tr><td>910</td><td>3</td><td>female</td><td>1</td><td>0</td><td>7.925</td><td>S</td></tr>\n",
              "<tr><td>911</td><td>3</td><td>female</td><td>0</td><td>0</td><td>7.225</td><td>C</td></tr>\n",
              "</table>\n",
              "only showing top 20 rows\n"
            ],
            "text/plain": [
              "+-----------+------+------+-----+-----+-------+--------+\n",
              "|PassengerId|Pclass|   Sex|SibSp|Parch|   Fare|Embarked|\n",
              "+-----------+------+------+-----+-----+-------+--------+\n",
              "|        892|     3|  male|    0|    0| 7.8292|       Q|\n",
              "|        893|     3|female|    1|    0|    7.0|       S|\n",
              "|        894|     2|  male|    0|    0| 9.6875|       Q|\n",
              "|        895|     3|  male|    0|    0| 8.6625|       S|\n",
              "|        896|     3|female|    1|    1|12.2875|       S|\n",
              "|        897|     3|  male|    0|    0|  9.225|       S|\n",
              "|        898|     3|female|    0|    0| 7.6292|       Q|\n",
              "|        899|     2|  male|    1|    1|   29.0|       S|\n",
              "|        900|     3|female|    0|    0| 7.2292|       C|\n",
              "|        901|     3|  male|    2|    0|  24.15|       S|\n",
              "|        902|     3|  male|    0|    0| 7.8958|       S|\n",
              "|        903|     1|  male|    0|    0|   26.0|       S|\n",
              "|        904|     1|female|    1|    0|82.2667|       S|\n",
              "|        905|     2|  male|    1|    0|   26.0|       S|\n",
              "|        906|     1|female|    1|    0| 61.175|       S|\n",
              "|        907|     2|female|    1|    0|27.7208|       C|\n",
              "|        908|     2|  male|    0|    0|  12.35|       Q|\n",
              "|        909|     3|  male|    0|    0|  7.225|       C|\n",
              "|        910|     3|female|    1|    0|  7.925|       S|\n",
              "|        911|     3|female|    0|    0|  7.225|       C|\n",
              "+-----------+------+------+-----+-----+-------+--------+\n",
              "only showing top 20 rows"
            ]
          },
          "execution_count": 138,
          "metadata": {},
          "output_type": "execute_result"
        }
      ],
      "source": [
        "df_test"
      ]
    },
    {
      "cell_type": "code",
      "execution_count": null,
      "metadata": {
        "colab": {
          "base_uri": "https://localhost:8080/",
          "height": 511
        },
        "id": "hpi6y7vYbfcb",
        "outputId": "606cdae4-2218-4845-ed9e-9e3f54130c45"
      },
      "outputs": [
        {
          "data": {
            "text/html": [
              "<table border='1'>\n",
              "<tr><th>PassengerId</th><th>Pclass</th><th>SibSp</th><th>Parch</th><th>Fare</th><th>Gender_female</th><th>Gender_male</th><th>Port_Q</th><th>Port_C</th><th>Port_S</th></tr>\n",
              "<tr><td>892</td><td>3</td><td>0</td><td>0</td><td>7.8292</td><td>0</td><td>1</td><td>1</td><td>0</td><td>0</td></tr>\n",
              "<tr><td>893</td><td>3</td><td>1</td><td>0</td><td>7.0</td><td>1</td><td>0</td><td>0</td><td>0</td><td>1</td></tr>\n",
              "<tr><td>894</td><td>2</td><td>0</td><td>0</td><td>9.6875</td><td>0</td><td>1</td><td>1</td><td>0</td><td>0</td></tr>\n",
              "<tr><td>895</td><td>3</td><td>0</td><td>0</td><td>8.6625</td><td>0</td><td>1</td><td>0</td><td>0</td><td>1</td></tr>\n",
              "<tr><td>896</td><td>3</td><td>1</td><td>1</td><td>12.2875</td><td>1</td><td>0</td><td>0</td><td>0</td><td>1</td></tr>\n",
              "<tr><td>897</td><td>3</td><td>0</td><td>0</td><td>9.225</td><td>0</td><td>1</td><td>0</td><td>0</td><td>1</td></tr>\n",
              "<tr><td>898</td><td>3</td><td>0</td><td>0</td><td>7.6292</td><td>1</td><td>0</td><td>1</td><td>0</td><td>0</td></tr>\n",
              "<tr><td>899</td><td>2</td><td>1</td><td>1</td><td>29.0</td><td>0</td><td>1</td><td>0</td><td>0</td><td>1</td></tr>\n",
              "<tr><td>900</td><td>3</td><td>0</td><td>0</td><td>7.2292</td><td>1</td><td>0</td><td>0</td><td>1</td><td>0</td></tr>\n",
              "<tr><td>901</td><td>3</td><td>2</td><td>0</td><td>24.15</td><td>0</td><td>1</td><td>0</td><td>0</td><td>1</td></tr>\n",
              "<tr><td>902</td><td>3</td><td>0</td><td>0</td><td>7.8958</td><td>0</td><td>1</td><td>0</td><td>0</td><td>1</td></tr>\n",
              "<tr><td>903</td><td>1</td><td>0</td><td>0</td><td>26.0</td><td>0</td><td>1</td><td>0</td><td>0</td><td>1</td></tr>\n",
              "<tr><td>904</td><td>1</td><td>1</td><td>0</td><td>82.2667</td><td>1</td><td>0</td><td>0</td><td>0</td><td>1</td></tr>\n",
              "<tr><td>905</td><td>2</td><td>1</td><td>0</td><td>26.0</td><td>0</td><td>1</td><td>0</td><td>0</td><td>1</td></tr>\n",
              "<tr><td>906</td><td>1</td><td>1</td><td>0</td><td>61.175</td><td>1</td><td>0</td><td>0</td><td>0</td><td>1</td></tr>\n",
              "<tr><td>907</td><td>2</td><td>1</td><td>0</td><td>27.7208</td><td>1</td><td>0</td><td>0</td><td>1</td><td>0</td></tr>\n",
              "<tr><td>908</td><td>2</td><td>0</td><td>0</td><td>12.35</td><td>0</td><td>1</td><td>1</td><td>0</td><td>0</td></tr>\n",
              "<tr><td>909</td><td>3</td><td>0</td><td>0</td><td>7.225</td><td>0</td><td>1</td><td>0</td><td>1</td><td>0</td></tr>\n",
              "<tr><td>910</td><td>3</td><td>1</td><td>0</td><td>7.925</td><td>1</td><td>0</td><td>0</td><td>0</td><td>1</td></tr>\n",
              "<tr><td>911</td><td>3</td><td>0</td><td>0</td><td>7.225</td><td>1</td><td>0</td><td>0</td><td>1</td><td>0</td></tr>\n",
              "</table>\n",
              "only showing top 20 rows\n"
            ],
            "text/plain": [
              "+-----------+------+-----+-----+-------+-------------+-----------+------+------+------+\n",
              "|PassengerId|Pclass|SibSp|Parch|   Fare|Gender_female|Gender_male|Port_Q|Port_C|Port_S|\n",
              "+-----------+------+-----+-----+-------+-------------+-----------+------+------+------+\n",
              "|        892|     3|    0|    0| 7.8292|            0|          1|     1|     0|     0|\n",
              "|        893|     3|    1|    0|    7.0|            1|          0|     0|     0|     1|\n",
              "|        894|     2|    0|    0| 9.6875|            0|          1|     1|     0|     0|\n",
              "|        895|     3|    0|    0| 8.6625|            0|          1|     0|     0|     1|\n",
              "|        896|     3|    1|    1|12.2875|            1|          0|     0|     0|     1|\n",
              "|        897|     3|    0|    0|  9.225|            0|          1|     0|     0|     1|\n",
              "|        898|     3|    0|    0| 7.6292|            1|          0|     1|     0|     0|\n",
              "|        899|     2|    1|    1|   29.0|            0|          1|     0|     0|     1|\n",
              "|        900|     3|    0|    0| 7.2292|            1|          0|     0|     1|     0|\n",
              "|        901|     3|    2|    0|  24.15|            0|          1|     0|     0|     1|\n",
              "|        902|     3|    0|    0| 7.8958|            0|          1|     0|     0|     1|\n",
              "|        903|     1|    0|    0|   26.0|            0|          1|     0|     0|     1|\n",
              "|        904|     1|    1|    0|82.2667|            1|          0|     0|     0|     1|\n",
              "|        905|     2|    1|    0|   26.0|            0|          1|     0|     0|     1|\n",
              "|        906|     1|    1|    0| 61.175|            1|          0|     0|     0|     1|\n",
              "|        907|     2|    1|    0|27.7208|            1|          0|     0|     1|     0|\n",
              "|        908|     2|    0|    0|  12.35|            0|          1|     1|     0|     0|\n",
              "|        909|     3|    0|    0|  7.225|            0|          1|     0|     1|     0|\n",
              "|        910|     3|    1|    0|  7.925|            1|          0|     0|     0|     1|\n",
              "|        911|     3|    0|    0|  7.225|            1|          0|     0|     1|     0|\n",
              "+-----------+------+-----+-----+-------+-------------+-----------+------+------+------+\n",
              "only showing top 20 rows"
            ]
          },
          "execution_count": 139,
          "metadata": {},
          "output_type": "execute_result"
        }
      ],
      "source": [
        "gender = df_test.select(\"Sex\").distinct().rdd.flatMap(lambda x: x).collect()\n",
        "embarked = df_test.select(\"Embarked\").distinct().rdd.flatMap(lambda x: x).collect()\n",
        "gender_expr = [F.when(F.col(\"Sex\") == sex, 1).otherwise(0).alias(\"Gender_\" + sex) for sex in gender]\n",
        "embarked_expr = [F.when(F.col(\"Embarked\") == port_name, 1).otherwise(0).alias(\"Port_\" + port_name) for port_name in embarked]\n",
        "df_test = df_test.select(\"PassengerId\",\"Pclass\",\"SibSp\",\"Parch\",\"Fare\", *gender_expr+embarked_expr)\n",
        "df_test"
      ]
    },
    {
      "cell_type": "code",
      "execution_count": null,
      "metadata": {
        "colab": {
          "base_uri": "https://localhost:8080/"
        },
        "id": "PZLPc47Beryk",
        "outputId": "2ba9c125-2cfc-4188-f7de-d3874059d956"
      },
      "outputs": [
        {
          "data": {
            "text/plain": [
              "['Pclass',\n",
              " 'SibSp',\n",
              " 'Parch',\n",
              " 'Fare',\n",
              " 'Gender_female',\n",
              " 'Gender_male',\n",
              " 'Port_Q',\n",
              " 'Port_C',\n",
              " 'Port_S']"
            ]
          },
          "execution_count": 140,
          "metadata": {},
          "output_type": "execute_result"
        }
      ],
      "source": [
        "# 定义特征列，排除目标列\n",
        "feature_cols = [col for col in col_to_train if col != 'Survived']\n",
        "feature_cols"
      ]
    },
    {
      "cell_type": "code",
      "execution_count": null,
      "metadata": {
        "colab": {
          "base_uri": "https://localhost:8080/"
        },
        "id": "myN8hbZGejiR",
        "outputId": "180b3f00-7af5-487b-dd86-b9dfb501cb3d"
      },
      "outputs": [
        {
          "name": "stdout",
          "output_type": "stream",
          "text": [
            "+-----------+------+-----+-----+------+-------------+-----------+------+------+------+-------------------------------------+\n",
            "|PassengerId|Pclass|SibSp|Parch|Fare  |Gender_female|Gender_male|Port_Q|Port_C|Port_S|features                             |\n",
            "+-----------+------+-----+-----+------+-------------+-----------+------+------+------+-------------------------------------+\n",
            "|892        |3     |0    |0    |7.8292|0            |1          |1     |0     |0     |(9,[0,3,5,6],[3.0,7.8292,1.0,1.0])   |\n",
            "|893        |3     |1    |0    |7.0   |1            |0          |0     |0     |1     |[3.0,1.0,0.0,7.0,1.0,0.0,0.0,0.0,1.0]|\n",
            "+-----------+------+-----+-----+------+-------------+-----------+------+------+------+-------------------------------------+\n",
            "only showing top 2 rows\n",
            "\n"
          ]
        }
      ],
      "source": [
        "\n",
        "\n",
        "# 创建 VectorAssembler，只包括特征列\n",
        "assembler = VectorAssembler(inputCols=feature_cols, outputCol='features')\n",
        "\n",
        "# 将训练数据和测试数据转换为特征向量\n",
        "df_test_vec = assembler.transform(df_test)\n",
        "\n",
        "\n",
        "# 展示转换后的数据\n",
        "df_test_vec.show(2, truncate=False)"
      ]
    },
    {
      "cell_type": "code",
      "execution_count": null,
      "metadata": {
        "colab": {
          "base_uri": "https://localhost:8080/"
        },
        "id": "g-vts16TfI8H",
        "outputId": "48114b34-1a7c-4eea-952b-a4a49f79cb0f"
      },
      "outputs": [
        {
          "name": "stdout",
          "output_type": "stream",
          "text": [
            "+-----------+------+-----+-----+-------+-------------+-----------+------+------+------+-----------------------------------------+----------------------------------------------------------------------------------------------------------------------------+\n",
            "|PassengerId|Pclass|SibSp|Parch|Fare   |Gender_female|Gender_male|Port_Q|Port_C|Port_S|features                                 |features_scaled                                                                                                             |\n",
            "+-----------+------+-----+-----+-------+-------------+-----------+------+------+------+-----------------------------------------+----------------------------------------------------------------------------------------------------------------------------+\n",
            "|892        |3     |0    |0    |7.8292 |0            |1          |1     |0     |0     |(9,[0,3,5,6],[3.0,7.8292,1.0,1.0])       |(9,[0,3,5,6],[3.563632903997743,0.14020457699459818,2.076316504188104,3.1915803504282687])                                  |\n",
            "|893        |3     |1    |0    |7.0    |1            |0          |0     |0     |1     |[3.0,1.0,0.0,7.0,1.0,0.0,0.0,0.0,1.0]    |[3.563632903997743,1.1151261088860294,0.0,0.1253553414093633,2.076316504188104,0.0,0.0,0.0,2.088543035709825]               |\n",
            "|894        |2     |0    |0    |9.6875 |0            |1          |1     |0     |0     |(9,[0,3,5,6],[2.0,9.6875,1.0,1.0])       |(9,[0,3,5,6],[2.3757552693318287,0.173482838557601,2.076316504188104,3.1915803504282687])                                   |\n",
            "|895        |3     |0    |0    |8.6625 |0            |1          |0     |0     |1     |(9,[0,3,5,8],[3.0,8.6625,1.0,1.0])       |(9,[0,3,5,8],[3.563632903997743,0.1551272349940871,2.076316504188104,2.088543035709825])                                    |\n",
            "|896        |3     |1    |1    |12.2875|1            |0          |0     |0     |1     |[3.0,1.0,1.0,12.2875,1.0,0.0,0.0,0.0,1.0]|[3.563632903997743,1.1151261088860294,1.018922534142781,0.22004339393822164,2.076316504188104,0.0,0.0,0.0,2.088543035709825]|\n",
            "+-----------+------+-----+-----+-------+-------------+-----------+------+------+------+-----------------------------------------+----------------------------------------------------------------------------------------------------------------------------+\n",
            "only showing top 5 rows\n",
            "\n"
          ]
        }
      ],
      "source": [
        "# Initializing the StandardScaler\n",
        "standard_scaler = StandardScaler(inputCol = 'features', outputCol=\"features_scaled\")\n",
        "train_model = standard_scaler.fit(df_test_vec)\n",
        "\n",
        "df_test_scaled = train_model.transform(df_test_vec)\n",
        "df_test_scaled.show(5, truncate=False)"
      ]
    },
    {
      "cell_type": "code",
      "execution_count": null,
      "metadata": {
        "id": "bSdB_lW1ftLq"
      },
      "outputs": [],
      "source": [
        "# Making predictions\n",
        "df_predictions = model.transform(df_test_scaled)"
      ]
    },
    {
      "cell_type": "code",
      "execution_count": null,
      "metadata": {
        "colab": {
          "base_uri": "https://localhost:8080/",
          "height": 531
        },
        "id": "bDY4mk12gEdQ",
        "outputId": "47c732ff-97c5-443d-cf98-dd725d318901"
      },
      "outputs": [
        {
          "data": {
            "text/html": [
              "<table border='1'>\n",
              "<tr><th>PassengerId</th><th>Pclass</th><th>SibSp</th><th>Parch</th><th>Fare</th><th>Gender_female</th><th>Gender_male</th><th>Port_Q</th><th>Port_C</th><th>Port_S</th><th>features</th><th>features_scaled</th><th>rawPrediction</th><th>probability</th><th>prediction</th></tr>\n",
              "<tr><td>892</td><td>3</td><td>0</td><td>0</td><td>7.8292</td><td>0</td><td>1</td><td>1</td><td>0</td><td>0</td><td>(9,[0,3,5,6],[3.0...</td><td>(9,[0,3,5,6],[3.5...</td><td>[175.857034369608...</td><td>[0.87928517184804...</td><td>0.0</td></tr>\n",
              "<tr><td>893</td><td>3</td><td>1</td><td>0</td><td>7.0</td><td>1</td><td>0</td><td>0</td><td>0</td><td>1</td><td>[3.0,1.0,0.0,7.0,...</td><td>[3.56363290399774...</td><td>[99.9104017936101...</td><td>[0.49955200896805...</td><td>1.0</td></tr>\n",
              "<tr><td>894</td><td>2</td><td>0</td><td>0</td><td>9.6875</td><td>0</td><td>1</td><td>1</td><td>0</td><td>0</td><td>(9,[0,3,5,6],[2.0...</td><td>(9,[0,3,5,6],[2.3...</td><td>[171.078030422479...</td><td>[0.85539015211239...</td><td>0.0</td></tr>\n",
              "<tr><td>895</td><td>3</td><td>0</td><td>0</td><td>8.6625</td><td>0</td><td>1</td><td>0</td><td>0</td><td>1</td><td>(9,[0,3,5,8],[3.0...</td><td>(9,[0,3,5,8],[3.5...</td><td>[175.008807252198...</td><td>[0.87504403626099...</td><td>0.0</td></tr>\n",
              "<tr><td>896</td><td>3</td><td>1</td><td>1</td><td>12.2875</td><td>1</td><td>0</td><td>0</td><td>0</td><td>1</td><td>[3.0,1.0,1.0,12.2...</td><td>[3.56363290399774...</td><td>[94.8511818401052...</td><td>[0.47425590920052...</td><td>1.0</td></tr>\n",
              "<tr><td>897</td><td>3</td><td>0</td><td>0</td><td>9.225</td><td>0</td><td>1</td><td>0</td><td>0</td><td>1</td><td>(9,[0,3,5,8],[3.0...</td><td>(9,[0,3,5,8],[3.5...</td><td>[175.311638498563...</td><td>[0.87655819249281...</td><td>0.0</td></tr>\n",
              "<tr><td>898</td><td>3</td><td>0</td><td>0</td><td>7.6292</td><td>1</td><td>0</td><td>1</td><td>0</td><td>0</td><td>(9,[0,3,4,6],[3.0...</td><td>(9,[0,3,4,6],[3.5...</td><td>[75.9519996852099...</td><td>[0.37975999842604...</td><td>1.0</td></tr>\n",
              "<tr><td>899</td><td>2</td><td>1</td><td>1</td><td>29.0</td><td>0</td><td>1</td><td>0</td><td>0</td><td>1</td><td>[2.0,1.0,1.0,29.0...</td><td>[2.37575526933182...</td><td>[146.230124863529...</td><td>[0.73115062431764...</td><td>0.0</td></tr>\n",
              "<tr><td>900</td><td>3</td><td>0</td><td>0</td><td>7.2292</td><td>1</td><td>0</td><td>0</td><td>1</td><td>0</td><td>(9,[0,3,4,7],[3.0...</td><td>(9,[0,3,4,7],[3.5...</td><td>[48.3387644271190...</td><td>[0.24169382213559...</td><td>1.0</td></tr>\n",
              "<tr><td>901</td><td>3</td><td>2</td><td>0</td><td>24.15</td><td>0</td><td>1</td><td>0</td><td>0</td><td>1</td><td>[3.0,2.0,0.0,24.1...</td><td>[3.56363290399774...</td><td>[167.736603049286...</td><td>[0.83868301524643...</td><td>0.0</td></tr>\n",
              "<tr><td>902</td><td>3</td><td>0</td><td>0</td><td>7.8958</td><td>0</td><td>1</td><td>0</td><td>0</td><td>1</td><td>(9,[0,3,5,8],[3.0...</td><td>(9,[0,3,5,8],[3.5...</td><td>[175.897895451681...</td><td>[0.87948947725840...</td><td>0.0</td></tr>\n",
              "<tr><td>903</td><td>1</td><td>0</td><td>0</td><td>26.0</td><td>0</td><td>1</td><td>0</td><td>0</td><td>1</td><td>(9,[0,3,5,8],[1.0...</td><td>(9,[0,3,5,8],[1.1...</td><td>[147.661765871986...</td><td>[0.73830882935993...</td><td>0.0</td></tr>\n",
              "<tr><td>904</td><td>1</td><td>1</td><td>0</td><td>82.2667</td><td>1</td><td>0</td><td>0</td><td>0</td><td>1</td><td>[1.0,1.0,0.0,82.2...</td><td>[1.18787763466591...</td><td>[16.6998522789179...</td><td>[0.08349926139458...</td><td>1.0</td></tr>\n",
              "<tr><td>905</td><td>2</td><td>1</td><td>0</td><td>26.0</td><td>0</td><td>1</td><td>0</td><td>0</td><td>1</td><td>[2.0,1.0,0.0,26.0...</td><td>[2.37575526933182...</td><td>[164.318389399775...</td><td>[0.82159194699887...</td><td>0.0</td></tr>\n",
              "<tr><td>906</td><td>1</td><td>1</td><td>0</td><td>61.175</td><td>1</td><td>0</td><td>0</td><td>0</td><td>1</td><td>[1.0,1.0,0.0,61.1...</td><td>[1.18787763466591...</td><td>[16.6998522789179...</td><td>[0.08349926139458...</td><td>1.0</td></tr>\n",
              "<tr><td>907</td><td>2</td><td>1</td><td>0</td><td>27.7208</td><td>1</td><td>0</td><td>0</td><td>1</td><td>0</td><td>[2.0,1.0,0.0,27.7...</td><td>[2.37575526933182...</td><td>[22.5106343233587...</td><td>[0.11255317161679...</td><td>1.0</td></tr>\n",
              "<tr><td>908</td><td>2</td><td>0</td><td>0</td><td>12.35</td><td>0</td><td>1</td><td>1</td><td>0</td><td>0</td><td>(9,[0,3,5,6],[2.0...</td><td>(9,[0,3,5,6],[2.3...</td><td>[168.464559149216...</td><td>[0.84232279574608...</td><td>0.0</td></tr>\n",
              "<tr><td>909</td><td>3</td><td>0</td><td>0</td><td>7.225</td><td>0</td><td>1</td><td>0</td><td>1</td><td>0</td><td>(9,[0,3,5,7],[3.0...</td><td>(9,[0,3,5,7],[3.5...</td><td>[172.895147367603...</td><td>[0.86447573683801...</td><td>0.0</td></tr>\n",
              "<tr><td>910</td><td>3</td><td>1</td><td>0</td><td>7.925</td><td>1</td><td>0</td><td>0</td><td>0</td><td>1</td><td>[3.0,1.0,0.0,7.92...</td><td>[3.56363290399774...</td><td>[95.4729583365242...</td><td>[0.47736479168262...</td><td>1.0</td></tr>\n",
              "<tr><td>911</td><td>3</td><td>0</td><td>0</td><td>7.225</td><td>1</td><td>0</td><td>0</td><td>1</td><td>0</td><td>(9,[0,3,4,7],[3.0...</td><td>(9,[0,3,4,7],[3.5...</td><td>[48.3387644271190...</td><td>[0.24169382213559...</td><td>1.0</td></tr>\n",
              "</table>\n",
              "only showing top 20 rows\n"
            ],
            "text/plain": [
              "+-----------+------+-----+-----+-------+-------------+-----------+------+------+------+--------------------+--------------------+--------------------+--------------------+----------+\n",
              "|PassengerId|Pclass|SibSp|Parch|   Fare|Gender_female|Gender_male|Port_Q|Port_C|Port_S|            features|     features_scaled|       rawPrediction|         probability|prediction|\n",
              "+-----------+------+-----+-----+-------+-------------+-----------+------+------+------+--------------------+--------------------+--------------------+--------------------+----------+\n",
              "|        892|     3|    0|    0| 7.8292|            0|          1|     1|     0|     0|(9,[0,3,5,6],[3.0...|(9,[0,3,5,6],[3.5...|[175.857034369608...|[0.87928517184804...|       0.0|\n",
              "|        893|     3|    1|    0|    7.0|            1|          0|     0|     0|     1|[3.0,1.0,0.0,7.0,...|[3.56363290399774...|[99.9104017936101...|[0.49955200896805...|       1.0|\n",
              "|        894|     2|    0|    0| 9.6875|            0|          1|     1|     0|     0|(9,[0,3,5,6],[2.0...|(9,[0,3,5,6],[2.3...|[171.078030422479...|[0.85539015211239...|       0.0|\n",
              "|        895|     3|    0|    0| 8.6625|            0|          1|     0|     0|     1|(9,[0,3,5,8],[3.0...|(9,[0,3,5,8],[3.5...|[175.008807252198...|[0.87504403626099...|       0.0|\n",
              "|        896|     3|    1|    1|12.2875|            1|          0|     0|     0|     1|[3.0,1.0,1.0,12.2...|[3.56363290399774...|[94.8511818401052...|[0.47425590920052...|       1.0|\n",
              "|        897|     3|    0|    0|  9.225|            0|          1|     0|     0|     1|(9,[0,3,5,8],[3.0...|(9,[0,3,5,8],[3.5...|[175.311638498563...|[0.87655819249281...|       0.0|\n",
              "|        898|     3|    0|    0| 7.6292|            1|          0|     1|     0|     0|(9,[0,3,4,6],[3.0...|(9,[0,3,4,6],[3.5...|[75.9519996852099...|[0.37975999842604...|       1.0|\n",
              "|        899|     2|    1|    1|   29.0|            0|          1|     0|     0|     1|[2.0,1.0,1.0,29.0...|[2.37575526933182...|[146.230124863529...|[0.73115062431764...|       0.0|\n",
              "|        900|     3|    0|    0| 7.2292|            1|          0|     0|     1|     0|(9,[0,3,4,7],[3.0...|(9,[0,3,4,7],[3.5...|[48.3387644271190...|[0.24169382213559...|       1.0|\n",
              "|        901|     3|    2|    0|  24.15|            0|          1|     0|     0|     1|[3.0,2.0,0.0,24.1...|[3.56363290399774...|[167.736603049286...|[0.83868301524643...|       0.0|\n",
              "|        902|     3|    0|    0| 7.8958|            0|          1|     0|     0|     1|(9,[0,3,5,8],[3.0...|(9,[0,3,5,8],[3.5...|[175.897895451681...|[0.87948947725840...|       0.0|\n",
              "|        903|     1|    0|    0|   26.0|            0|          1|     0|     0|     1|(9,[0,3,5,8],[1.0...|(9,[0,3,5,8],[1.1...|[147.661765871986...|[0.73830882935993...|       0.0|\n",
              "|        904|     1|    1|    0|82.2667|            1|          0|     0|     0|     1|[1.0,1.0,0.0,82.2...|[1.18787763466591...|[16.6998522789179...|[0.08349926139458...|       1.0|\n",
              "|        905|     2|    1|    0|   26.0|            0|          1|     0|     0|     1|[2.0,1.0,0.0,26.0...|[2.37575526933182...|[164.318389399775...|[0.82159194699887...|       0.0|\n",
              "|        906|     1|    1|    0| 61.175|            1|          0|     0|     0|     1|[1.0,1.0,0.0,61.1...|[1.18787763466591...|[16.6998522789179...|[0.08349926139458...|       1.0|\n",
              "|        907|     2|    1|    0|27.7208|            1|          0|     0|     1|     0|[2.0,1.0,0.0,27.7...|[2.37575526933182...|[22.5106343233587...|[0.11255317161679...|       1.0|\n",
              "|        908|     2|    0|    0|  12.35|            0|          1|     1|     0|     0|(9,[0,3,5,6],[2.0...|(9,[0,3,5,6],[2.3...|[168.464559149216...|[0.84232279574608...|       0.0|\n",
              "|        909|     3|    0|    0|  7.225|            0|          1|     0|     1|     0|(9,[0,3,5,7],[3.0...|(9,[0,3,5,7],[3.5...|[172.895147367603...|[0.86447573683801...|       0.0|\n",
              "|        910|     3|    1|    0|  7.925|            1|          0|     0|     0|     1|[3.0,1.0,0.0,7.92...|[3.56363290399774...|[95.4729583365242...|[0.47736479168262...|       1.0|\n",
              "|        911|     3|    0|    0|  7.225|            1|          0|     0|     1|     0|(9,[0,3,4,7],[3.0...|(9,[0,3,4,7],[3.5...|[48.3387644271190...|[0.24169382213559...|       1.0|\n",
              "+-----------+------+-----+-----+-------+-------------+-----------+------+------+------+--------------------+--------------------+--------------------+--------------------+----------+\n",
              "only showing top 20 rows"
            ]
          },
          "execution_count": 146,
          "metadata": {},
          "output_type": "execute_result"
        }
      ],
      "source": [
        "df_predictions"
      ]
    },
    {
      "cell_type": "code",
      "execution_count": null,
      "metadata": {
        "colab": {
          "base_uri": "https://localhost:8080/",
          "height": 511
        },
        "id": "f7tskSdxgp53",
        "outputId": "d5c00a84-1e8d-468e-d267-3aa8b55adc58"
      },
      "outputs": [
        {
          "data": {
            "text/html": [
              "<table border='1'>\n",
              "<tr><th>PassengerId</th><th>prediction</th></tr>\n",
              "<tr><td>892</td><td>0.0</td></tr>\n",
              "<tr><td>893</td><td>1.0</td></tr>\n",
              "<tr><td>894</td><td>0.0</td></tr>\n",
              "<tr><td>895</td><td>0.0</td></tr>\n",
              "<tr><td>896</td><td>1.0</td></tr>\n",
              "<tr><td>897</td><td>0.0</td></tr>\n",
              "<tr><td>898</td><td>1.0</td></tr>\n",
              "<tr><td>899</td><td>0.0</td></tr>\n",
              "<tr><td>900</td><td>1.0</td></tr>\n",
              "<tr><td>901</td><td>0.0</td></tr>\n",
              "<tr><td>902</td><td>0.0</td></tr>\n",
              "<tr><td>903</td><td>0.0</td></tr>\n",
              "<tr><td>904</td><td>1.0</td></tr>\n",
              "<tr><td>905</td><td>0.0</td></tr>\n",
              "<tr><td>906</td><td>1.0</td></tr>\n",
              "<tr><td>907</td><td>1.0</td></tr>\n",
              "<tr><td>908</td><td>0.0</td></tr>\n",
              "<tr><td>909</td><td>0.0</td></tr>\n",
              "<tr><td>910</td><td>1.0</td></tr>\n",
              "<tr><td>911</td><td>1.0</td></tr>\n",
              "</table>\n",
              "only showing top 20 rows\n"
            ],
            "text/plain": [
              "+-----------+----------+\n",
              "|PassengerId|prediction|\n",
              "+-----------+----------+\n",
              "|        892|       0.0|\n",
              "|        893|       1.0|\n",
              "|        894|       0.0|\n",
              "|        895|       0.0|\n",
              "|        896|       1.0|\n",
              "|        897|       0.0|\n",
              "|        898|       1.0|\n",
              "|        899|       0.0|\n",
              "|        900|       1.0|\n",
              "|        901|       0.0|\n",
              "|        902|       0.0|\n",
              "|        903|       0.0|\n",
              "|        904|       1.0|\n",
              "|        905|       0.0|\n",
              "|        906|       1.0|\n",
              "|        907|       1.0|\n",
              "|        908|       0.0|\n",
              "|        909|       0.0|\n",
              "|        910|       1.0|\n",
              "|        911|       1.0|\n",
              "+-----------+----------+\n",
              "only showing top 20 rows"
            ]
          },
          "execution_count": 168,
          "metadata": {},
          "output_type": "execute_result"
        }
      ],
      "source": [
        "df_result = df_predictions[['PassengerId', 'prediction']]\n",
        "df_result"
      ]
    },
    {
      "cell_type": "code",
      "execution_count": null,
      "metadata": {
        "id": "16GoCHxViyjR"
      },
      "outputs": [],
      "source": [
        "df_result = df_result.withColumnRenamed(\"prediction\", \"Survived\")"
      ]
    },
    {
      "cell_type": "code",
      "execution_count": null,
      "metadata": {
        "colab": {
          "base_uri": "https://localhost:8080/",
          "height": 511
        },
        "id": "gocxiD-Pi20U",
        "outputId": "a145976b-3c24-406e-d863-0576cccfc25b"
      },
      "outputs": [
        {
          "data": {
            "text/html": [
              "<table border='1'>\n",
              "<tr><th>PassengerId</th><th>Survived</th></tr>\n",
              "<tr><td>892</td><td>0.0</td></tr>\n",
              "<tr><td>893</td><td>1.0</td></tr>\n",
              "<tr><td>894</td><td>0.0</td></tr>\n",
              "<tr><td>895</td><td>0.0</td></tr>\n",
              "<tr><td>896</td><td>1.0</td></tr>\n",
              "<tr><td>897</td><td>0.0</td></tr>\n",
              "<tr><td>898</td><td>1.0</td></tr>\n",
              "<tr><td>899</td><td>0.0</td></tr>\n",
              "<tr><td>900</td><td>1.0</td></tr>\n",
              "<tr><td>901</td><td>0.0</td></tr>\n",
              "<tr><td>902</td><td>0.0</td></tr>\n",
              "<tr><td>903</td><td>0.0</td></tr>\n",
              "<tr><td>904</td><td>1.0</td></tr>\n",
              "<tr><td>905</td><td>0.0</td></tr>\n",
              "<tr><td>906</td><td>1.0</td></tr>\n",
              "<tr><td>907</td><td>1.0</td></tr>\n",
              "<tr><td>908</td><td>0.0</td></tr>\n",
              "<tr><td>909</td><td>0.0</td></tr>\n",
              "<tr><td>910</td><td>1.0</td></tr>\n",
              "<tr><td>911</td><td>1.0</td></tr>\n",
              "</table>\n",
              "only showing top 20 rows\n"
            ],
            "text/plain": [
              "+-----------+--------+\n",
              "|PassengerId|Survived|\n",
              "+-----------+--------+\n",
              "|        892|     0.0|\n",
              "|        893|     1.0|\n",
              "|        894|     0.0|\n",
              "|        895|     0.0|\n",
              "|        896|     1.0|\n",
              "|        897|     0.0|\n",
              "|        898|     1.0|\n",
              "|        899|     0.0|\n",
              "|        900|     1.0|\n",
              "|        901|     0.0|\n",
              "|        902|     0.0|\n",
              "|        903|     0.0|\n",
              "|        904|     1.0|\n",
              "|        905|     0.0|\n",
              "|        906|     1.0|\n",
              "|        907|     1.0|\n",
              "|        908|     0.0|\n",
              "|        909|     0.0|\n",
              "|        910|     1.0|\n",
              "|        911|     1.0|\n",
              "+-----------+--------+\n",
              "only showing top 20 rows"
            ]
          },
          "execution_count": 170,
          "metadata": {},
          "output_type": "execute_result"
        }
      ],
      "source": [
        "df_result"
      ]
    },
    {
      "cell_type": "code",
      "execution_count": null,
      "metadata": {
        "colab": {
          "base_uri": "https://localhost:8080/"
        },
        "id": "4jwB3MxhppcU",
        "outputId": "93e7f58a-2c52-47ff-d66e-530d3934b612"
      },
      "outputs": [
        {
          "name": "stdout",
          "output_type": "stream",
          "text": [
            "root\n",
            " |-- PassengerId: integer (nullable = true)\n",
            " |-- Survived: double (nullable = false)\n",
            "\n"
          ]
        }
      ],
      "source": [
        "df_result.printSchema()"
      ]
    },
    {
      "cell_type": "code",
      "execution_count": null,
      "metadata": {
        "colab": {
          "base_uri": "https://localhost:8080/"
        },
        "id": "ZIxN99KepqNv",
        "outputId": "8f2ecc21-f498-4c03-96a9-1d646fdab26b"
      },
      "outputs": [
        {
          "name": "stdout",
          "output_type": "stream",
          "text": [
            "root\n",
            " |-- PassengerId: integer (nullable = true)\n",
            " |-- Survived: integer (nullable = true)\n",
            "\n"
          ]
        }
      ],
      "source": [
        "new_df = df_result.withColumn(\"Survived\", col(\"Survived\").cast(\"int\"))\n",
        "\n",
        "# 显示新的 DataFrame 结构\n",
        "new_df.printSchema()"
      ]
    },
    {
      "cell_type": "code",
      "execution_count": null,
      "metadata": {
        "id": "zs9qDyaejH-L"
      },
      "outputs": [],
      "source": [
        "output_path = 'output.csv'\n",
        "new_df.write.csv(output_path, header=True, mode=\"overwrite\")\n",
        "\n",
        "# 停止 SparkSession\n",
        "spark.stop()"
      ]
    }
  ],
  "metadata": {
    "colab": {
      "provenance": []
    },
    "kernelspec": {
      "display_name": "Python 3",
      "name": "python3"
    },
    "language_info": {
      "name": "python"
    }
  },
  "nbformat": 4,
  "nbformat_minor": 0
}
